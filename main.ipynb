{
 "cells": [
  {
   "cell_type": "code",
   "execution_count": 126,
   "metadata": {},
   "outputs": [],
   "source": [
    "import pandas as pd\n",
    "import numpy as np\n",
    "from pandas.io.json import json_normalize\n",
    "import json\n",
    "import dateutil\n",
    "import matplotlib.pyplot as plt"
   ]
  },
  {
   "cell_type": "code",
   "execution_count": 127,
   "metadata": {},
   "outputs": [],
   "source": [
    "# Get current size\n",
    "fig_size = plt.rcParams[\"figure.figsize\"]\n",
    "\n",
    "# Set figure width to 12 and height to 9\n",
    "fig_size[0] = 15\n",
    "fig_size[1] = 12\n",
    "plt.rcParams[\"figure.figsize\"] = fig_size"
   ]
  },
  {
   "cell_type": "code",
   "execution_count": 128,
   "metadata": {},
   "outputs": [],
   "source": [
    "tst_d = pd.read_csv('data/full-list-covid-19-tests-per-day.csv')\n",
    "tst_t = pd.read_csv('data/full-list-total-tests-for-covid-19.csv')\n",
    "deaths_w = pd.read_csv('data/total_deaths.csv')\n",
    "cases_w = pd.read_csv('data/total_cases.csv')"
   ]
  },
  {
   "cell_type": "code",
   "execution_count": 129,
   "metadata": {},
   "outputs": [],
   "source": [
    "with open('data/india/all_totals.json') as f:\n",
    "    ind_tot = json.load(f)"
   ]
  },
  {
   "cell_type": "code",
   "execution_count": 130,
   "metadata": {},
   "outputs": [],
   "source": [
    "with open('data/india/total_confirmed_cases.json') as f:\n",
    "    ind_con = json.load(f)"
   ]
  },
  {
   "cell_type": "code",
   "execution_count": 131,
   "metadata": {},
   "outputs": [],
   "source": [
    "with open('data/india/icmr_testing_status.json') as f:\n",
    "    ind_tst = json.load(f)"
   ]
  },
  {
   "cell_type": "code",
   "execution_count": 132,
   "metadata": {},
   "outputs": [],
   "source": [
    "active = pd.DataFrame(columns=['date', 'active_cases'])\n",
    "\n",
    "for row in ind_con['rows']:\n",
    "    if row['key'][1] == 'total_confirmed':\n",
    "        temp = pd.DataFrame([[row['key'][0], row['value']]])\n",
    "        temp.columns = ['date', 'active_cases']\n",
    "        active = active.append(temp, ignore_index=True)"
   ]
  },
  {
   "cell_type": "code",
   "execution_count": 133,
   "metadata": {},
   "outputs": [],
   "source": [
    "cured = pd.DataFrame(columns=['date', 'cured'])\n",
    "\n",
    "for row in ind_tot['rows']:\n",
    "    if row['key'][1] == 'cured':\n",
    "        temp = pd.DataFrame([[row['key'][0], row['value']]])\n",
    "        temp.columns = ['date', 'cured']\n",
    "        cured = cured.append(temp, ignore_index=True)"
   ]
  },
  {
   "cell_type": "code",
   "execution_count": 134,
   "metadata": {},
   "outputs": [],
   "source": [
    "death = pd.DataFrame(columns=['date', 'death'])\n",
    "\n",
    "for row in ind_tot['rows']:\n",
    "    if row['key'][1] == 'death':\n",
    "        temp = pd.DataFrame([[row['key'][0], row['value']]])\n",
    "        temp.columns = ['date', 'death']\n",
    "        death = death.append(temp, ignore_index=True)"
   ]
  },
  {
   "cell_type": "code",
   "execution_count": 135,
   "metadata": {},
   "outputs": [],
   "source": [
    "india_tests = pd.DataFrame(columns=['date', 'tests'])\n",
    "\n",
    "for row in ind_tst['rows']:\n",
    "    temp = pd.DataFrame([[row['value']['report_time'], row['value']['samples']]])\n",
    "    temp.columns = ['date', 'tests']\n",
    "    india_tests = india_tests.append(temp, ignore_index=True)"
   ]
  },
  {
   "cell_type": "code",
   "execution_count": 136,
   "metadata": {},
   "outputs": [],
   "source": [
    "t = pd.merge(active, cured, on='date')\n",
    "india_totals = pd.merge(t, death, on='date')"
   ]
  },
  {
   "cell_type": "code",
   "execution_count": 137,
   "metadata": {},
   "outputs": [],
   "source": [
    "india_totals['date_read'] = india_totals['date'].apply(lambda x: dateutil.parser.parse(x).strftime(\"%b %-d, %Y\"))\n",
    "india_tests['date_read'] = india_tests['date'].apply(lambda x: dateutil.parser.parse(x).strftime(\"%b %-d, %Y\"))"
   ]
  },
  {
   "cell_type": "code",
   "execution_count": 138,
   "metadata": {},
   "outputs": [],
   "source": [
    "india_totals['dup1'] = (~india_totals['date_read'].duplicated(keep='last')).astype(int)\n",
    "india_totals['dup1'] = np.where(india_totals['date_read'].duplicated(keep='last'), 0, 1)\n",
    "india_totals = india_totals[india_totals['dup1'] == 1]"
   ]
  },
  {
   "cell_type": "code",
   "execution_count": 139,
   "metadata": {},
   "outputs": [],
   "source": [
    "india_tests['dup1'] = (~india_tests['date_read'].duplicated(keep='last')).astype(int)\n",
    "india_tests['dup1'] = np.where(india_tests['date_read'].duplicated(keep='last'), 0, 1)\n",
    "india_tests = india_tests[india_tests['dup1'] == 1]"
   ]
  },
  {
   "cell_type": "code",
   "execution_count": 140,
   "metadata": {},
   "outputs": [
    {
     "data": {
      "text/html": [
       "<div>\n",
       "<style scoped>\n",
       "    .dataframe tbody tr th:only-of-type {\n",
       "        vertical-align: middle;\n",
       "    }\n",
       "\n",
       "    .dataframe tbody tr th {\n",
       "        vertical-align: top;\n",
       "    }\n",
       "\n",
       "    .dataframe thead th {\n",
       "        text-align: right;\n",
       "    }\n",
       "</style>\n",
       "<table border=\"1\" class=\"dataframe\">\n",
       "  <thead>\n",
       "    <tr style=\"text-align: right;\">\n",
       "      <th></th>\n",
       "      <th>date</th>\n",
       "      <th>active_cases</th>\n",
       "      <th>cured</th>\n",
       "      <th>death</th>\n",
       "      <th>date_read</th>\n",
       "      <th>dup1</th>\n",
       "    </tr>\n",
       "  </thead>\n",
       "  <tbody>\n",
       "    <tr>\n",
       "      <th>0</th>\n",
       "      <td>2020-01-30T13:33:00.00+05:30</td>\n",
       "      <td>1</td>\n",
       "      <td>0</td>\n",
       "      <td>0</td>\n",
       "      <td>Jan 30, 2020</td>\n",
       "      <td>1</td>\n",
       "    </tr>\n",
       "    <tr>\n",
       "      <th>1</th>\n",
       "      <td>2020-02-02T10:39:00.00+05:30</td>\n",
       "      <td>2</td>\n",
       "      <td>0</td>\n",
       "      <td>0</td>\n",
       "      <td>Feb 2, 2020</td>\n",
       "      <td>1</td>\n",
       "    </tr>\n",
       "    <tr>\n",
       "      <th>2</th>\n",
       "      <td>2020-02-03T12:13:00.00+05:30</td>\n",
       "      <td>3</td>\n",
       "      <td>0</td>\n",
       "      <td>0</td>\n",
       "      <td>Feb 3, 2020</td>\n",
       "      <td>1</td>\n",
       "    </tr>\n",
       "    <tr>\n",
       "      <th>3</th>\n",
       "      <td>2020-03-02T14:28:00.00+05:30</td>\n",
       "      <td>5</td>\n",
       "      <td>0</td>\n",
       "      <td>0</td>\n",
       "      <td>Mar 2, 2020</td>\n",
       "      <td>1</td>\n",
       "    </tr>\n",
       "    <tr>\n",
       "      <th>4</th>\n",
       "      <td>2020-03-03T19:36:00.00+05:30</td>\n",
       "      <td>6</td>\n",
       "      <td>0</td>\n",
       "      <td>0</td>\n",
       "      <td>Mar 3, 2020</td>\n",
       "      <td>1</td>\n",
       "    </tr>\n",
       "  </tbody>\n",
       "</table>\n",
       "</div>"
      ],
      "text/plain": [
       "                           date active_cases cured death     date_read  dup1\n",
       "0  2020-01-30T13:33:00.00+05:30            1     0     0  Jan 30, 2020     1\n",
       "1  2020-02-02T10:39:00.00+05:30            2     0     0   Feb 2, 2020     1\n",
       "2  2020-02-03T12:13:00.00+05:30            3     0     0   Feb 3, 2020     1\n",
       "3  2020-03-02T14:28:00.00+05:30            5     0     0   Mar 2, 2020     1\n",
       "4  2020-03-03T19:36:00.00+05:30            6     0     0   Mar 3, 2020     1"
      ]
     },
     "execution_count": 140,
     "metadata": {},
     "output_type": "execute_result"
    }
   ],
   "source": [
    "india_totals.head()"
   ]
  },
  {
   "cell_type": "code",
   "execution_count": 141,
   "metadata": {},
   "outputs": [
    {
     "data": {
      "image/png": "[encoded data removed]",
      "text/plain": [
       "<Figure size 1080x864 with 1 Axes>"
      ]
     },
     "metadata": {
      "needs_background": "light"
     },
     "output_type": "display_data"
    }
   ],
   "source": [
    "plt.plot(india_totals['date_read'], india_totals['active_cases'])\n",
    "plt.plot(india_totals['date_read'], india_totals['cured'])\n",
    "plt.plot(india_totals['date_read'], india_totals['death'])\n",
    "plt.xticks(india_totals['date_read'], india_totals['date_read'], rotation='vertical')\n",
    "plt.show()"
   ]
  },
  {
   "cell_type": "code",
   "execution_count": 142,
   "metadata": {},
   "outputs": [],
   "source": [
    "tst_t = pd.read_csv('data/full-list-total-tests-for-covid-19.csv')"
   ]
  },
  {
   "cell_type": "code",
   "execution_count": 143,
   "metadata": {},
   "outputs": [],
   "source": [
    "t = tst_t[tst_t['Entity'].str.contains('India')][['Date', 'Cumulative total tests']]"
   ]
  },
  {
   "cell_type": "code",
   "execution_count": 144,
   "metadata": {},
   "outputs": [
    {
     "data": {
      "text/html": [
       "<div>\n",
       "<style scoped>\n",
       "    .dataframe tbody tr th:only-of-type {\n",
       "        vertical-align: middle;\n",
       "    }\n",
       "\n",
       "    .dataframe tbody tr th {\n",
       "        vertical-align: top;\n",
       "    }\n",
       "\n",
       "    .dataframe thead th {\n",
       "        text-align: right;\n",
       "    }\n",
       "</style>\n",
       "<table border=\"1\" class=\"dataframe\">\n",
       "  <thead>\n",
       "    <tr style=\"text-align: right;\">\n",
       "      <th></th>\n",
       "      <th>Entity</th>\n",
       "      <th>Code</th>\n",
       "      <th>Date</th>\n",
       "      <th>Cumulative total tests</th>\n",
       "    </tr>\n",
       "  </thead>\n",
       "  <tbody>\n",
       "    <tr>\n",
       "      <th>0</th>\n",
       "      <td>Australia</td>\n",
       "      <td>AUS</td>\n",
       "      <td>Mar 22, 2020</td>\n",
       "      <td>143056</td>\n",
       "    </tr>\n",
       "    <tr>\n",
       "      <th>1</th>\n",
       "      <td>Australia</td>\n",
       "      <td>AUS</td>\n",
       "      <td>Mar 29, 2020</td>\n",
       "      <td>211261</td>\n",
       "    </tr>\n",
       "    <tr>\n",
       "      <th>2</th>\n",
       "      <td>Australia</td>\n",
       "      <td>AUS</td>\n",
       "      <td>Apr 2, 2020</td>\n",
       "      <td>261000</td>\n",
       "    </tr>\n",
       "    <tr>\n",
       "      <th>3</th>\n",
       "      <td>Australia</td>\n",
       "      <td>AUS</td>\n",
       "      <td>Apr 3, 2020</td>\n",
       "      <td>277278</td>\n",
       "    </tr>\n",
       "    <tr>\n",
       "      <th>4</th>\n",
       "      <td>Australia</td>\n",
       "      <td>AUS</td>\n",
       "      <td>Apr 6, 2020</td>\n",
       "      <td>302759</td>\n",
       "    </tr>\n",
       "    <tr>\n",
       "      <th>5</th>\n",
       "      <td>Australia</td>\n",
       "      <td>AUS</td>\n",
       "      <td>Apr 7, 2020</td>\n",
       "      <td>310797</td>\n",
       "    </tr>\n",
       "    <tr>\n",
       "      <th>6</th>\n",
       "      <td>Australia</td>\n",
       "      <td>AUS</td>\n",
       "      <td>Apr 8, 2020</td>\n",
       "      <td>319368</td>\n",
       "    </tr>\n",
       "    <tr>\n",
       "      <th>7</th>\n",
       "      <td>Australia</td>\n",
       "      <td>AUS</td>\n",
       "      <td>Apr 9, 2020</td>\n",
       "      <td>330134</td>\n",
       "    </tr>\n",
       "    <tr>\n",
       "      <th>8</th>\n",
       "      <td>Australia</td>\n",
       "      <td>AUS</td>\n",
       "      <td>Apr 10, 2020</td>\n",
       "      <td>338346</td>\n",
       "    </tr>\n",
       "    <tr>\n",
       "      <th>9</th>\n",
       "      <td>Austria</td>\n",
       "      <td>AUT</td>\n",
       "      <td>Feb 25, 2020</td>\n",
       "      <td>218</td>\n",
       "    </tr>\n",
       "    <tr>\n",
       "      <th>10</th>\n",
       "      <td>Austria</td>\n",
       "      <td>AUT</td>\n",
       "      <td>Feb 26, 2020</td>\n",
       "      <td>321</td>\n",
       "    </tr>\n",
       "    <tr>\n",
       "      <th>11</th>\n",
       "      <td>Austria</td>\n",
       "      <td>AUT</td>\n",
       "      <td>Feb 27, 2020</td>\n",
       "      <td>447</td>\n",
       "    </tr>\n",
       "    <tr>\n",
       "      <th>12</th>\n",
       "      <td>Austria</td>\n",
       "      <td>AUT</td>\n",
       "      <td>Feb 28, 2020</td>\n",
       "      <td>763</td>\n",
       "    </tr>\n",
       "    <tr>\n",
       "      <th>13</th>\n",
       "      <td>Austria</td>\n",
       "      <td>AUT</td>\n",
       "      <td>Feb 29, 2020</td>\n",
       "      <td>1649</td>\n",
       "    </tr>\n",
       "    <tr>\n",
       "      <th>14</th>\n",
       "      <td>Austria</td>\n",
       "      <td>AUT</td>\n",
       "      <td>Mar 3, 2020</td>\n",
       "      <td>2683</td>\n",
       "    </tr>\n",
       "    <tr>\n",
       "      <th>15</th>\n",
       "      <td>Austria</td>\n",
       "      <td>AUT</td>\n",
       "      <td>Mar 4, 2020</td>\n",
       "      <td>3138</td>\n",
       "    </tr>\n",
       "    <tr>\n",
       "      <th>16</th>\n",
       "      <td>Austria</td>\n",
       "      <td>AUT</td>\n",
       "      <td>Mar 5, 2020</td>\n",
       "      <td>3711</td>\n",
       "    </tr>\n",
       "    <tr>\n",
       "      <th>17</th>\n",
       "      <td>Austria</td>\n",
       "      <td>AUT</td>\n",
       "      <td>Mar 6, 2020</td>\n",
       "      <td>4000</td>\n",
       "    </tr>\n",
       "    <tr>\n",
       "      <th>18</th>\n",
       "      <td>Austria</td>\n",
       "      <td>AUT</td>\n",
       "      <td>Mar 7, 2020</td>\n",
       "      <td>4308</td>\n",
       "    </tr>\n",
       "    <tr>\n",
       "      <th>19</th>\n",
       "      <td>Austria</td>\n",
       "      <td>AUT</td>\n",
       "      <td>Mar 8, 2020</td>\n",
       "      <td>4509</td>\n",
       "    </tr>\n",
       "    <tr>\n",
       "      <th>20</th>\n",
       "      <td>Austria</td>\n",
       "      <td>AUT</td>\n",
       "      <td>Mar 9, 2020</td>\n",
       "      <td>4734</td>\n",
       "    </tr>\n",
       "    <tr>\n",
       "      <th>21</th>\n",
       "      <td>Austria</td>\n",
       "      <td>AUT</td>\n",
       "      <td>Mar 10, 2020</td>\n",
       "      <td>5026</td>\n",
       "    </tr>\n",
       "    <tr>\n",
       "      <th>22</th>\n",
       "      <td>Austria</td>\n",
       "      <td>AUT</td>\n",
       "      <td>Mar 11, 2020</td>\n",
       "      <td>5362</td>\n",
       "    </tr>\n",
       "    <tr>\n",
       "      <th>23</th>\n",
       "      <td>Austria</td>\n",
       "      <td>AUT</td>\n",
       "      <td>Mar 12, 2020</td>\n",
       "      <td>5869</td>\n",
       "    </tr>\n",
       "    <tr>\n",
       "      <th>24</th>\n",
       "      <td>Austria</td>\n",
       "      <td>AUT</td>\n",
       "      <td>Mar 13, 2020</td>\n",
       "      <td>6582</td>\n",
       "    </tr>\n",
       "    <tr>\n",
       "      <th>25</th>\n",
       "      <td>Austria</td>\n",
       "      <td>AUT</td>\n",
       "      <td>Mar 14, 2020</td>\n",
       "      <td>7467</td>\n",
       "    </tr>\n",
       "    <tr>\n",
       "      <th>26</th>\n",
       "      <td>Austria</td>\n",
       "      <td>AUT</td>\n",
       "      <td>Mar 15, 2020</td>\n",
       "      <td>8167</td>\n",
       "    </tr>\n",
       "    <tr>\n",
       "      <th>27</th>\n",
       "      <td>Austria</td>\n",
       "      <td>AUT</td>\n",
       "      <td>Mar 16, 2020</td>\n",
       "      <td>8490</td>\n",
       "    </tr>\n",
       "    <tr>\n",
       "      <th>28</th>\n",
       "      <td>Austria</td>\n",
       "      <td>AUT</td>\n",
       "      <td>Mar 17, 2020</td>\n",
       "      <td>10278</td>\n",
       "    </tr>\n",
       "    <tr>\n",
       "      <th>29</th>\n",
       "      <td>Austria</td>\n",
       "      <td>AUT</td>\n",
       "      <td>Mar 18, 2020</td>\n",
       "      <td>11977</td>\n",
       "    </tr>\n",
       "    <tr>\n",
       "      <th>...</th>\n",
       "      <td>...</td>\n",
       "      <td>...</td>\n",
       "      <td>...</td>\n",
       "      <td>...</td>\n",
       "    </tr>\n",
       "    <tr>\n",
       "      <th>1250</th>\n",
       "      <td>Uruguay</td>\n",
       "      <td>URY</td>\n",
       "      <td>Apr 4, 2020</td>\n",
       "      <td>5063</td>\n",
       "    </tr>\n",
       "    <tr>\n",
       "      <th>1251</th>\n",
       "      <td>Uruguay</td>\n",
       "      <td>URY</td>\n",
       "      <td>Apr 6, 2020</td>\n",
       "      <td>5614</td>\n",
       "    </tr>\n",
       "    <tr>\n",
       "      <th>1252</th>\n",
       "      <td>Uruguay</td>\n",
       "      <td>URY</td>\n",
       "      <td>Apr 10, 2020</td>\n",
       "      <td>6175</td>\n",
       "    </tr>\n",
       "    <tr>\n",
       "      <th>1253</th>\n",
       "      <td>Vietnam</td>\n",
       "      <td>VNM</td>\n",
       "      <td>Mar 2, 2020</td>\n",
       "      <td>1753</td>\n",
       "    </tr>\n",
       "    <tr>\n",
       "      <th>1254</th>\n",
       "      <td>Vietnam</td>\n",
       "      <td>VNM</td>\n",
       "      <td>Mar 3, 2020</td>\n",
       "      <td>1785</td>\n",
       "    </tr>\n",
       "    <tr>\n",
       "      <th>1255</th>\n",
       "      <td>Vietnam</td>\n",
       "      <td>VNM</td>\n",
       "      <td>Mar 5, 2020</td>\n",
       "      <td>1924</td>\n",
       "    </tr>\n",
       "    <tr>\n",
       "      <th>1256</th>\n",
       "      <td>Vietnam</td>\n",
       "      <td>VNM</td>\n",
       "      <td>Mar 6, 2020</td>\n",
       "      <td>2008</td>\n",
       "    </tr>\n",
       "    <tr>\n",
       "      <th>1257</th>\n",
       "      <td>Vietnam</td>\n",
       "      <td>VNM</td>\n",
       "      <td>Mar 9, 2020</td>\n",
       "      <td>2589</td>\n",
       "    </tr>\n",
       "    <tr>\n",
       "      <th>1258</th>\n",
       "      <td>Vietnam</td>\n",
       "      <td>VNM</td>\n",
       "      <td>Mar 11, 2020</td>\n",
       "      <td>4471</td>\n",
       "    </tr>\n",
       "    <tr>\n",
       "      <th>1259</th>\n",
       "      <td>Vietnam</td>\n",
       "      <td>VNM</td>\n",
       "      <td>Mar 12, 2020</td>\n",
       "      <td>4588</td>\n",
       "    </tr>\n",
       "    <tr>\n",
       "      <th>1260</th>\n",
       "      <td>Vietnam</td>\n",
       "      <td>VNM</td>\n",
       "      <td>Mar 13, 2020</td>\n",
       "      <td>4789</td>\n",
       "    </tr>\n",
       "    <tr>\n",
       "      <th>1261</th>\n",
       "      <td>Vietnam</td>\n",
       "      <td>VNM</td>\n",
       "      <td>Mar 14, 2020</td>\n",
       "      <td>5235</td>\n",
       "    </tr>\n",
       "    <tr>\n",
       "      <th>1262</th>\n",
       "      <td>Vietnam</td>\n",
       "      <td>VNM</td>\n",
       "      <td>Mar 15, 2020</td>\n",
       "      <td>7515</td>\n",
       "    </tr>\n",
       "    <tr>\n",
       "      <th>1263</th>\n",
       "      <td>Vietnam</td>\n",
       "      <td>VNM</td>\n",
       "      <td>Mar 16, 2020</td>\n",
       "      <td>7522</td>\n",
       "    </tr>\n",
       "    <tr>\n",
       "      <th>1264</th>\n",
       "      <td>Vietnam</td>\n",
       "      <td>VNM</td>\n",
       "      <td>Mar 17, 2020</td>\n",
       "      <td>9696</td>\n",
       "    </tr>\n",
       "    <tr>\n",
       "      <th>1265</th>\n",
       "      <td>Vietnam</td>\n",
       "      <td>VNM</td>\n",
       "      <td>Mar 18, 2020</td>\n",
       "      <td>14950</td>\n",
       "    </tr>\n",
       "    <tr>\n",
       "      <th>1266</th>\n",
       "      <td>Vietnam</td>\n",
       "      <td>VNM</td>\n",
       "      <td>Mar 20, 2020</td>\n",
       "      <td>15637</td>\n",
       "    </tr>\n",
       "    <tr>\n",
       "      <th>1267</th>\n",
       "      <td>Vietnam</td>\n",
       "      <td>VNM</td>\n",
       "      <td>Mar 22, 2020</td>\n",
       "      <td>17148</td>\n",
       "    </tr>\n",
       "    <tr>\n",
       "      <th>1268</th>\n",
       "      <td>Vietnam</td>\n",
       "      <td>VNM</td>\n",
       "      <td>Mar 24, 2020</td>\n",
       "      <td>24311</td>\n",
       "    </tr>\n",
       "    <tr>\n",
       "      <th>1269</th>\n",
       "      <td>Vietnam</td>\n",
       "      <td>VNM</td>\n",
       "      <td>Mar 25, 2020</td>\n",
       "      <td>30548</td>\n",
       "    </tr>\n",
       "    <tr>\n",
       "      <th>1270</th>\n",
       "      <td>Vietnam</td>\n",
       "      <td>VNM</td>\n",
       "      <td>Mar 26, 2020</td>\n",
       "      <td>31881</td>\n",
       "    </tr>\n",
       "    <tr>\n",
       "      <th>1271</th>\n",
       "      <td>Vietnam</td>\n",
       "      <td>VNM</td>\n",
       "      <td>Mar 27, 2020</td>\n",
       "      <td>35808</td>\n",
       "    </tr>\n",
       "    <tr>\n",
       "      <th>1272</th>\n",
       "      <td>Vietnam</td>\n",
       "      <td>VNM</td>\n",
       "      <td>Apr 1, 2020</td>\n",
       "      <td>67456</td>\n",
       "    </tr>\n",
       "    <tr>\n",
       "      <th>1273</th>\n",
       "      <td>Vietnam</td>\n",
       "      <td>VNM</td>\n",
       "      <td>Apr 2, 2020</td>\n",
       "      <td>73164</td>\n",
       "    </tr>\n",
       "    <tr>\n",
       "      <th>1274</th>\n",
       "      <td>Vietnam</td>\n",
       "      <td>VNM</td>\n",
       "      <td>Apr 3, 2020</td>\n",
       "      <td>75458</td>\n",
       "    </tr>\n",
       "    <tr>\n",
       "      <th>1275</th>\n",
       "      <td>Vietnam</td>\n",
       "      <td>VNM</td>\n",
       "      <td>Apr 6, 2020</td>\n",
       "      <td>94305</td>\n",
       "    </tr>\n",
       "    <tr>\n",
       "      <th>1276</th>\n",
       "      <td>Vietnam</td>\n",
       "      <td>VNM</td>\n",
       "      <td>Apr 7, 2020</td>\n",
       "      <td>106599</td>\n",
       "    </tr>\n",
       "    <tr>\n",
       "      <th>1277</th>\n",
       "      <td>Vietnam</td>\n",
       "      <td>VNM</td>\n",
       "      <td>Apr 8, 2020</td>\n",
       "      <td>110124</td>\n",
       "    </tr>\n",
       "    <tr>\n",
       "      <th>1278</th>\n",
       "      <td>Vietnam</td>\n",
       "      <td>VNM</td>\n",
       "      <td>Apr 9, 2020</td>\n",
       "      <td>114241</td>\n",
       "    </tr>\n",
       "    <tr>\n",
       "      <th>1279</th>\n",
       "      <td>Vietnam</td>\n",
       "      <td>VNM</td>\n",
       "      <td>Apr 10, 2020</td>\n",
       "      <td>118807</td>\n",
       "    </tr>\n",
       "  </tbody>\n",
       "</table>\n",
       "<p>1280 rows × 4 columns</p>\n",
       "</div>"
      ],
      "text/plain": [
       "         Entity Code          Date  Cumulative total tests\n",
       "0     Australia  AUS  Mar 22, 2020                  143056\n",
       "1     Australia  AUS  Mar 29, 2020                  211261\n",
       "2     Australia  AUS   Apr 2, 2020                  261000\n",
       "3     Australia  AUS   Apr 3, 2020                  277278\n",
       "4     Australia  AUS   Apr 6, 2020                  302759\n",
       "5     Australia  AUS   Apr 7, 2020                  310797\n",
       "6     Australia  AUS   Apr 8, 2020                  319368\n",
       "7     Australia  AUS   Apr 9, 2020                  330134\n",
       "8     Australia  AUS  Apr 10, 2020                  338346\n",
       "9       Austria  AUT  Feb 25, 2020                     218\n",
       "10      Austria  AUT  Feb 26, 2020                     321\n",
       "11      Austria  AUT  Feb 27, 2020                     447\n",
       "12      Austria  AUT  Feb 28, 2020                     763\n",
       "13      Austria  AUT  Feb 29, 2020                    1649\n",
       "14      Austria  AUT   Mar 3, 2020                    2683\n",
       "15      Austria  AUT   Mar 4, 2020                    3138\n",
       "16      Austria  AUT   Mar 5, 2020                    3711\n",
       "17      Austria  AUT   Mar 6, 2020                    4000\n",
       "18      Austria  AUT   Mar 7, 2020                    4308\n",
       "19      Austria  AUT   Mar 8, 2020                    4509\n",
       "20      Austria  AUT   Mar 9, 2020                    4734\n",
       "21      Austria  AUT  Mar 10, 2020                    5026\n",
       "22      Austria  AUT  Mar 11, 2020                    5362\n",
       "23      Austria  AUT  Mar 12, 2020                    5869\n",
       "24      Austria  AUT  Mar 13, 2020                    6582\n",
       "25      Austria  AUT  Mar 14, 2020                    7467\n",
       "26      Austria  AUT  Mar 15, 2020                    8167\n",
       "27      Austria  AUT  Mar 16, 2020                    8490\n",
       "28      Austria  AUT  Mar 17, 2020                   10278\n",
       "29      Austria  AUT  Mar 18, 2020                   11977\n",
       "...         ...  ...           ...                     ...\n",
       "1250    Uruguay  URY   Apr 4, 2020                    5063\n",
       "1251    Uruguay  URY   Apr 6, 2020                    5614\n",
       "1252    Uruguay  URY  Apr 10, 2020                    6175\n",
       "1253    Vietnam  VNM   Mar 2, 2020                    1753\n",
       "1254    Vietnam  VNM   Mar 3, 2020                    1785\n",
       "1255    Vietnam  VNM   Mar 5, 2020                    1924\n",
       "1256    Vietnam  VNM   Mar 6, 2020                    2008\n",
       "1257    Vietnam  VNM   Mar 9, 2020                    2589\n",
       "1258    Vietnam  VNM  Mar 11, 2020                    4471\n",
       "1259    Vietnam  VNM  Mar 12, 2020                    4588\n",
       "1260    Vietnam  VNM  Mar 13, 2020                    4789\n",
       "1261    Vietnam  VNM  Mar 14, 2020                    5235\n",
       "1262    Vietnam  VNM  Mar 15, 2020                    7515\n",
       "1263    Vietnam  VNM  Mar 16, 2020                    7522\n",
       "1264    Vietnam  VNM  Mar 17, 2020                    9696\n",
       "1265    Vietnam  VNM  Mar 18, 2020                   14950\n",
       "1266    Vietnam  VNM  Mar 20, 2020                   15637\n",
       "1267    Vietnam  VNM  Mar 22, 2020                   17148\n",
       "1268    Vietnam  VNM  Mar 24, 2020                   24311\n",
       "1269    Vietnam  VNM  Mar 25, 2020                   30548\n",
       "1270    Vietnam  VNM  Mar 26, 2020                   31881\n",
       "1271    Vietnam  VNM  Mar 27, 2020                   35808\n",
       "1272    Vietnam  VNM   Apr 1, 2020                   67456\n",
       "1273    Vietnam  VNM   Apr 2, 2020                   73164\n",
       "1274    Vietnam  VNM   Apr 3, 2020                   75458\n",
       "1275    Vietnam  VNM   Apr 6, 2020                   94305\n",
       "1276    Vietnam  VNM   Apr 7, 2020                  106599\n",
       "1277    Vietnam  VNM   Apr 8, 2020                  110124\n",
       "1278    Vietnam  VNM   Apr 9, 2020                  114241\n",
       "1279    Vietnam  VNM  Apr 10, 2020                  118807\n",
       "\n",
       "[1280 rows x 4 columns]"
      ]
     },
     "execution_count": 144,
     "metadata": {},
     "output_type": "execute_result"
    }
   ],
   "source": [
    "tst_t"
   ]
  },
  {
   "cell_type": "code",
   "execution_count": 145,
   "metadata": {},
   "outputs": [],
   "source": [
    "india_tests = india_tests.reset_index(drop=True)"
   ]
  },
  {
   "cell_type": "code",
   "execution_count": 146,
   "metadata": {},
   "outputs": [],
   "source": [
    "india_test_totals = pd.merge(india_tests, india_totals, on='date_read')"
   ]
  },
  {
   "cell_type": "code",
   "execution_count": 147,
   "metadata": {},
   "outputs": [
    {
     "data": {
      "text/html": [
       "<div>\n",
       "<style scoped>\n",
       "    .dataframe tbody tr th:only-of-type {\n",
       "        vertical-align: middle;\n",
       "    }\n",
       "\n",
       "    .dataframe tbody tr th {\n",
       "        vertical-align: top;\n",
       "    }\n",
       "\n",
       "    .dataframe thead th {\n",
       "        text-align: right;\n",
       "    }\n",
       "</style>\n",
       "<table border=\"1\" class=\"dataframe\">\n",
       "  <thead>\n",
       "    <tr style=\"text-align: right;\">\n",
       "      <th></th>\n",
       "      <th>date_x</th>\n",
       "      <th>tests</th>\n",
       "      <th>date_read</th>\n",
       "      <th>dup1_x</th>\n",
       "      <th>date_y</th>\n",
       "      <th>active_cases</th>\n",
       "      <th>cured</th>\n",
       "      <th>death</th>\n",
       "      <th>dup1_y</th>\n",
       "    </tr>\n",
       "  </thead>\n",
       "  <tbody>\n",
       "    <tr>\n",
       "      <th>0</th>\n",
       "      <td>2020-03-13T10:00:00.00+05:30</td>\n",
       "      <td>6500</td>\n",
       "      <td>Mar 13, 2020</td>\n",
       "      <td>1</td>\n",
       "      <td>2020-03-13T22:15:00.00+05:30</td>\n",
       "      <td>79</td>\n",
       "      <td>10</td>\n",
       "      <td>2</td>\n",
       "      <td>1</td>\n",
       "    </tr>\n",
       "    <tr>\n",
       "      <th>1</th>\n",
       "      <td>2020-03-18T18:00:00.00+05:30</td>\n",
       "      <td>13125</td>\n",
       "      <td>Mar 18, 2020</td>\n",
       "      <td>1</td>\n",
       "      <td>2020-03-18T17:15:00.00+05:30</td>\n",
       "      <td>151</td>\n",
       "      <td>14</td>\n",
       "      <td>3</td>\n",
       "      <td>1</td>\n",
       "    </tr>\n",
       "    <tr>\n",
       "      <th>2</th>\n",
       "      <td>2020-03-19T18:00:00.00+05:30</td>\n",
       "      <td>14175</td>\n",
       "      <td>Mar 19, 2020</td>\n",
       "      <td>1</td>\n",
       "      <td>2020-03-19T17:00:00.00+05:30</td>\n",
       "      <td>173</td>\n",
       "      <td>20</td>\n",
       "      <td>4</td>\n",
       "      <td>1</td>\n",
       "    </tr>\n",
       "    <tr>\n",
       "      <th>3</th>\n",
       "      <td>2020-03-20T18:00:00.00+05:30</td>\n",
       "      <td>15404</td>\n",
       "      <td>Mar 20, 2020</td>\n",
       "      <td>1</td>\n",
       "      <td>2020-03-20T17:00:00.00+05:30</td>\n",
       "      <td>223</td>\n",
       "      <td>23</td>\n",
       "      <td>4</td>\n",
       "      <td>1</td>\n",
       "    </tr>\n",
       "    <tr>\n",
       "      <th>4</th>\n",
       "      <td>2020-03-21T10:00:00.00+05:30</td>\n",
       "      <td>15701</td>\n",
       "      <td>Mar 21, 2020</td>\n",
       "      <td>1</td>\n",
       "      <td>2020-03-21T16:45:00.00+05:30</td>\n",
       "      <td>283</td>\n",
       "      <td>23</td>\n",
       "      <td>4</td>\n",
       "      <td>1</td>\n",
       "    </tr>\n",
       "    <tr>\n",
       "      <th>5</th>\n",
       "      <td>2020-03-22T10:00:00.00+05:30</td>\n",
       "      <td>16999</td>\n",
       "      <td>Mar 22, 2020</td>\n",
       "      <td>1</td>\n",
       "      <td>2020-03-22T18:30:00.00+05:30</td>\n",
       "      <td>360</td>\n",
       "      <td>24</td>\n",
       "      <td>7</td>\n",
       "      <td>1</td>\n",
       "    </tr>\n",
       "    <tr>\n",
       "      <th>6</th>\n",
       "      <td>2020-03-23T20:00:00.00+05:30</td>\n",
       "      <td>20707</td>\n",
       "      <td>Mar 23, 2020</td>\n",
       "      <td>1</td>\n",
       "      <td>2020-03-23T20:15:00.00+05:30</td>\n",
       "      <td>434</td>\n",
       "      <td>35</td>\n",
       "      <td>9</td>\n",
       "      <td>1</td>\n",
       "    </tr>\n",
       "    <tr>\n",
       "      <th>7</th>\n",
       "      <td>2020-03-24T10:00:00.00+05:30</td>\n",
       "      <td>20864</td>\n",
       "      <td>Mar 24, 2020</td>\n",
       "      <td>1</td>\n",
       "      <td>2020-03-24T20:15:00.00+05:30</td>\n",
       "      <td>519</td>\n",
       "      <td>40</td>\n",
       "      <td>10</td>\n",
       "      <td>1</td>\n",
       "    </tr>\n",
       "    <tr>\n",
       "      <th>8</th>\n",
       "      <td>2020-03-25T20:00:00.00+05:30</td>\n",
       "      <td>25144</td>\n",
       "      <td>Mar 25, 2020</td>\n",
       "      <td>1</td>\n",
       "      <td>2020-03-25T18:45:00.00+05:30</td>\n",
       "      <td>606</td>\n",
       "      <td>43</td>\n",
       "      <td>10</td>\n",
       "      <td>1</td>\n",
       "    </tr>\n",
       "    <tr>\n",
       "      <th>9</th>\n",
       "      <td>2020-03-27T09:00:00.00+05:30</td>\n",
       "      <td>27688</td>\n",
       "      <td>Mar 27, 2020</td>\n",
       "      <td>1</td>\n",
       "      <td>2020-03-27T09:15:00.00+05:30</td>\n",
       "      <td>724</td>\n",
       "      <td>67</td>\n",
       "      <td>17</td>\n",
       "      <td>1</td>\n",
       "    </tr>\n",
       "    <tr>\n",
       "      <th>10</th>\n",
       "      <td>2020-04-02T21:00:00.00+05:30</td>\n",
       "      <td>47951</td>\n",
       "      <td>Apr 2, 2020</td>\n",
       "      <td>1</td>\n",
       "      <td>2020-04-02T18:00:00.00+05:30</td>\n",
       "      <td>2069</td>\n",
       "      <td>156</td>\n",
       "      <td>53</td>\n",
       "      <td>1</td>\n",
       "    </tr>\n",
       "    <tr>\n",
       "      <th>11</th>\n",
       "      <td>2020-04-03T21:00:00.00+05:30</td>\n",
       "      <td>69245</td>\n",
       "      <td>Apr 3, 2020</td>\n",
       "      <td>1</td>\n",
       "      <td>2020-04-03T18:00:00.00+05:30</td>\n",
       "      <td>2470</td>\n",
       "      <td>163</td>\n",
       "      <td>62</td>\n",
       "      <td>1</td>\n",
       "    </tr>\n",
       "    <tr>\n",
       "      <th>12</th>\n",
       "      <td>2020-04-04T21:00:00.00+05:30</td>\n",
       "      <td>79950</td>\n",
       "      <td>Apr 4, 2020</td>\n",
       "      <td>1</td>\n",
       "      <td>2020-04-04T18:00:00.00+05:30</td>\n",
       "      <td>3072</td>\n",
       "      <td>213</td>\n",
       "      <td>75</td>\n",
       "      <td>1</td>\n",
       "    </tr>\n",
       "    <tr>\n",
       "      <th>13</th>\n",
       "      <td>2020-04-05T21:00:00.00+05:30</td>\n",
       "      <td>89534</td>\n",
       "      <td>Apr 5, 2020</td>\n",
       "      <td>1</td>\n",
       "      <td>2020-04-05T18:00:00.00+05:30</td>\n",
       "      <td>3577</td>\n",
       "      <td>275</td>\n",
       "      <td>83</td>\n",
       "      <td>1</td>\n",
       "    </tr>\n",
       "    <tr>\n",
       "      <th>14</th>\n",
       "      <td>2020-04-06T21:00:00.00+05:30</td>\n",
       "      <td>101068</td>\n",
       "      <td>Apr 6, 2020</td>\n",
       "      <td>1</td>\n",
       "      <td>2020-04-06T18:00:00.00+05:30</td>\n",
       "      <td>4281</td>\n",
       "      <td>319</td>\n",
       "      <td>111</td>\n",
       "      <td>1</td>\n",
       "    </tr>\n",
       "    <tr>\n",
       "      <th>15</th>\n",
       "      <td>2020-04-07T21:00:00.00+05:30</td>\n",
       "      <td>114015</td>\n",
       "      <td>Apr 7, 2020</td>\n",
       "      <td>1</td>\n",
       "      <td>2020-04-07T18:00:00.00+05:30</td>\n",
       "      <td>4789</td>\n",
       "      <td>353</td>\n",
       "      <td>124</td>\n",
       "      <td>1</td>\n",
       "    </tr>\n",
       "    <tr>\n",
       "      <th>16</th>\n",
       "      <td>2020-04-08T21:00:00.00+05:30</td>\n",
       "      <td>127919</td>\n",
       "      <td>Apr 8, 2020</td>\n",
       "      <td>1</td>\n",
       "      <td>2020-04-08T17:00:00.00+05:30</td>\n",
       "      <td>5274</td>\n",
       "      <td>411</td>\n",
       "      <td>149</td>\n",
       "      <td>1</td>\n",
       "    </tr>\n",
       "    <tr>\n",
       "      <th>17</th>\n",
       "      <td>2020-04-09T21:00:00.00+05:30</td>\n",
       "      <td>144910</td>\n",
       "      <td>Apr 9, 2020</td>\n",
       "      <td>1</td>\n",
       "      <td>2020-04-09T17:00:00.00+05:30</td>\n",
       "      <td>5865</td>\n",
       "      <td>478</td>\n",
       "      <td>169</td>\n",
       "      <td>1</td>\n",
       "    </tr>\n",
       "    <tr>\n",
       "      <th>18</th>\n",
       "      <td>2020-04-10T21:00:00.00+05:30</td>\n",
       "      <td>161330</td>\n",
       "      <td>Apr 10, 2020</td>\n",
       "      <td>1</td>\n",
       "      <td>2020-04-10T17:00:00.00+05:30</td>\n",
       "      <td>6761</td>\n",
       "      <td>516</td>\n",
       "      <td>206</td>\n",
       "      <td>1</td>\n",
       "    </tr>\n",
       "    <tr>\n",
       "      <th>19</th>\n",
       "      <td>2020-04-11T21:00:00.00+05:30</td>\n",
       "      <td>179374</td>\n",
       "      <td>Apr 11, 2020</td>\n",
       "      <td>1</td>\n",
       "      <td>2020-04-11T17:00:00.00+05:30</td>\n",
       "      <td>7529</td>\n",
       "      <td>653</td>\n",
       "      <td>242</td>\n",
       "      <td>1</td>\n",
       "    </tr>\n",
       "  </tbody>\n",
       "</table>\n",
       "</div>"
      ],
      "text/plain": [
       "                          date_x   tests     date_read  dup1_x  \\\n",
       "0   2020-03-13T10:00:00.00+05:30    6500  Mar 13, 2020       1   \n",
       "1   2020-03-18T18:00:00.00+05:30   13125  Mar 18, 2020       1   \n",
       "2   2020-03-19T18:00:00.00+05:30   14175  Mar 19, 2020       1   \n",
       "3   2020-03-20T18:00:00.00+05:30   15404  Mar 20, 2020       1   \n",
       "4   2020-03-21T10:00:00.00+05:30   15701  Mar 21, 2020       1   \n",
       "5   2020-03-22T10:00:00.00+05:30   16999  Mar 22, 2020       1   \n",
       "6   2020-03-23T20:00:00.00+05:30   20707  Mar 23, 2020       1   \n",
       "7   2020-03-24T10:00:00.00+05:30   20864  Mar 24, 2020       1   \n",
       "8   2020-03-25T20:00:00.00+05:30   25144  Mar 25, 2020       1   \n",
       "9   2020-03-27T09:00:00.00+05:30   27688  Mar 27, 2020       1   \n",
       "10  2020-04-02T21:00:00.00+05:30   47951   Apr 2, 2020       1   \n",
       "11  2020-04-03T21:00:00.00+05:30   69245   Apr 3, 2020       1   \n",
       "12  2020-04-04T21:00:00.00+05:30   79950   Apr 4, 2020       1   \n",
       "13  2020-04-05T21:00:00.00+05:30   89534   Apr 5, 2020       1   \n",
       "14  2020-04-06T21:00:00.00+05:30  101068   Apr 6, 2020       1   \n",
       "15  2020-04-07T21:00:00.00+05:30  114015   Apr 7, 2020       1   \n",
       "16  2020-04-08T21:00:00.00+05:30  127919   Apr 8, 2020       1   \n",
       "17  2020-04-09T21:00:00.00+05:30  144910   Apr 9, 2020       1   \n",
       "18  2020-04-10T21:00:00.00+05:30  161330  Apr 10, 2020       1   \n",
       "19  2020-04-11T21:00:00.00+05:30  179374  Apr 11, 2020       1   \n",
       "\n",
       "                          date_y active_cases cured death  dup1_y  \n",
       "0   2020-03-13T22:15:00.00+05:30           79    10     2       1  \n",
       "1   2020-03-18T17:15:00.00+05:30          151    14     3       1  \n",
       "2   2020-03-19T17:00:00.00+05:30          173    20     4       1  \n",
       "3   2020-03-20T17:00:00.00+05:30          223    23     4       1  \n",
       "4   2020-03-21T16:45:00.00+05:30          283    23     4       1  \n",
       "5   2020-03-22T18:30:00.00+05:30          360    24     7       1  \n",
       "6   2020-03-23T20:15:00.00+05:30          434    35     9       1  \n",
       "7   2020-03-24T20:15:00.00+05:30          519    40    10       1  \n",
       "8   2020-03-25T18:45:00.00+05:30          606    43    10       1  \n",
       "9   2020-03-27T09:15:00.00+05:30          724    67    17       1  \n",
       "10  2020-04-02T18:00:00.00+05:30         2069   156    53       1  \n",
       "11  2020-04-03T18:00:00.00+05:30         2470   163    62       1  \n",
       "12  2020-04-04T18:00:00.00+05:30         3072   213    75       1  \n",
       "13  2020-04-05T18:00:00.00+05:30         3577   275    83       1  \n",
       "14  2020-04-06T18:00:00.00+05:30         4281   319   111       1  \n",
       "15  2020-04-07T18:00:00.00+05:30         4789   353   124       1  \n",
       "16  2020-04-08T17:00:00.00+05:30         5274   411   149       1  \n",
       "17  2020-04-09T17:00:00.00+05:30         5865   478   169       1  \n",
       "18  2020-04-10T17:00:00.00+05:30         6761   516   206       1  \n",
       "19  2020-04-11T17:00:00.00+05:30         7529   653   242       1  "
      ]
     },
     "execution_count": 147,
     "metadata": {},
     "output_type": "execute_result"
    }
   ],
   "source": [
    "india_test_totals"
   ]
  },
  {
   "cell_type": "code",
   "execution_count": 148,
   "metadata": {},
   "outputs": [
    {
     "data": {
      "image/png": "[encoded data removed]",
      "text/plain": [
       "<Figure size 1080x864 with 1 Axes>"
      ]
     },
     "metadata": {
      "needs_background": "light"
     },
     "output_type": "display_data"
    }
   ],
   "source": [
    "plt.plot(india_test_totals['active_cases'], india_test_totals['tests'])\n",
    "plt.xticks(india_test_totals['active_cases'], india_test_totals['active_cases'], rotation='vertical')\n",
    "plt.xlabel('Total number of positive cases')\n",
    "plt.ylabel('Total number of tests')\n",
    "plt.show()"
   ]
  },
  {
   "cell_type": "code",
   "execution_count": 149,
   "metadata": {},
   "outputs": [
    {
     "data": {
      "image/png": "[encoded data removed]",
      "text/plain": [
       "<Figure size 1080x864 with 1 Axes>"
      ]
     },
     "metadata": {
      "needs_background": "light"
     },
     "output_type": "display_data"
    }
   ],
   "source": [
    "plt.plot(india_test_totals['death'], india_test_totals['tests'])\n",
    "plt.xticks(india_test_totals['death'], india_test_totals['death'], rotation='vertical')\n",
    "plt.xlabel('Total number of deaths')\n",
    "plt.ylabel('Total number of tests')\n",
    "plt.show()"
   ]
  },
  {
   "cell_type": "code",
   "execution_count": 150,
   "metadata": {},
   "outputs": [],
   "source": [
    "def get_country_stats(c, query, cases_w, deaths_w, tst_t):\n",
    "    cases = cases_w[['date', c]]\n",
    "    deaths = deaths_w[['date', c]]\n",
    "    tests = tst_t[tst_t['Entity'].str.contains(c)]\n",
    "    if query:\n",
    "        tests = tests[tests['Code']==query]\n",
    "    \n",
    "    tests = tests[['Date', 'Cumulative total tests']]\n",
    "    \n",
    "    tests['date_read'] = tests['Date'].apply(lambda x: dateutil.parser.parse(x).strftime(\"%b %-d, %Y\"))\n",
    "    cases['date_read'] = cases['date'].apply(lambda x: dateutil.parser.parse(x).strftime(\"%b %-d, %Y\"))\n",
    "    deaths['date_read'] = deaths['date'].apply(lambda x: dateutil.parser.parse(x).strftime(\"%b %-d, %Y\"))\n",
    "    \n",
    "    test_cases = pd.merge(tests, cases, on='date_read')\n",
    "    test_deaths = pd.merge(tests, deaths, on='date_read')\n",
    "    \n",
    "    return test_cases, test_deaths"
   ]
  },
  {
   "cell_type": "code",
   "execution_count": 194,
   "metadata": {},
   "outputs": [
    {
     "name": "stderr",
     "output_type": "stream",
     "text": [
      "/home/aman/anaconda3/lib/python3.7/site-packages/ipykernel_launcher.py:11: SettingWithCopyWarning:\n",
      "\n",
      "\n",
      "A value is trying to be set on a copy of a slice from a DataFrame.\n",
      "Try using .loc[row_indexer,col_indexer] = value instead\n",
      "\n",
      "See the caveats in the documentation: http://pandas.pydata.org/pandas-docs/stable/indexing.html#indexing-view-versus-copy\n",
      "\n",
      "/home/aman/anaconda3/lib/python3.7/site-packages/ipykernel_launcher.py:12: SettingWithCopyWarning:\n",
      "\n",
      "\n",
      "A value is trying to be set on a copy of a slice from a DataFrame.\n",
      "Try using .loc[row_indexer,col_indexer] = value instead\n",
      "\n",
      "See the caveats in the documentation: http://pandas.pydata.org/pandas-docs/stable/indexing.html#indexing-view-versus-copy\n",
      "\n"
     ]
    }
   ],
   "source": [
    "usa_test_cases, usa_test_deaths = get_country_stats('United States', 'USA', cases_w, deaths_w, tst_t)\n",
    "sk_test_cases, sk_test_deaths = get_country_stats('South Korea', '', cases_w, deaths_w, tst_t)\n",
    "india_test_cases, india_test_deaths = get_country_stats('India', '', cases_w, deaths_w, tst_t)\n",
    "italy_test_cases, italy_test_deaths = get_country_stats('Italy', '', cases_w, deaths_w, tst_t)\n",
    "pk_test_cases, pk_test_deaths = get_country_stats('Pakistan', '', cases_w, deaths_w, tst_t)"
   ]
  },
  {
   "cell_type": "code",
   "execution_count": 167,
   "metadata": {},
   "outputs": [],
   "source": [
    "sk_test_cases = sk_test_cases[:48]\n",
    "sk_test_deaths = sk_test_deaths[:50]"
   ]
  },
  {
   "cell_type": "code",
   "execution_count": 168,
   "metadata": {},
   "outputs": [],
   "source": [
    "usa_test_cases = usa_test_cases[:21]\n",
    "usa_test_deaths = usa_test_deaths[:23]"
   ]
  },
  {
   "cell_type": "code",
   "execution_count": 169,
   "metadata": {},
   "outputs": [],
   "source": [
    "italy_test_cases = italy_test_cases[:16]\n",
    "italy_test_deaths = italy_test_deaths[:14]"
   ]
  },
  {
   "cell_type": "code",
   "execution_count": 196,
   "metadata": {},
   "outputs": [
    {
     "data": {
      "application/vnd.plotly.v1+json": {
       "config": {
        "plotlyServerURL": "https://plot.ly"
       },
       "data": [
        {
         "mode": "lines+markers",
         "name": "South Korea",
         "type": "scatter",
         "x": [
          1,
          1,
          2,
          3,
          4,
          4,
          4,
          12,
          15,
          15,
          16,
          18,
          23,
          24,
          24,
          25,
          27,
          28,
          28,
          28,
          28,
          28,
          29,
          30,
          31,
          46,
          80,
          155,
          345,
          601,
          762,
          892,
          1146,
          1595,
          2022,
          2931,
          3526,
          4212,
          4812,
          5328,
          5766,
          6284,
          6767,
          7134,
          7382,
          7513,
          7755,
          7869,
          7979,
          8086,
          8162,
          8236,
          8320,
          8413,
          8565,
          8652,
          8799,
          8897,
          8961,
          9037,
          9137,
          9241,
          9332,
          9478,
          9583,
          9661,
          9786,
          9786,
          9976,
          10062,
          10156,
          10237,
          10284,
          10331,
          10384,
          10423,
          10450
         ],
         "y": [
          11,
          16,
          25,
          48,
          57,
          187,
          244,
          371,
          429,
          429,
          607,
          714,
          885,
          1130,
          1701,
          2340,
          2776,
          3629,
          5074,
          5797,
          6854,
          7519,
          7919,
          8171,
          9265,
          10411,
          12161,
          14816,
          19621,
          22633,
          28615,
          36716,
          46127,
          57990,
          70940,
          85693,
          96985,
          109591,
          125851,
          136707,
          146541,
          164740,
          178189,
          188518,
          196618,
          210144,
          222395,
          234998,
          248647,
          261335,
          268212,
          274504,
          286716,
          295647,
          307024,
          316664,
          327509,
          331780,
          338036,
          348582,
          357896,
          364942,
          376961,
          387925,
          394141,
          395194,
          410564,
          421547,
          431743,
          443273,
          455032,
          461233,
          466804,
          477304,
          486003,
          494711,
          503051
         ]
        },
        {
         "mode": "lines+markers",
         "name": "India",
         "type": "scatter",
         "x": [
          79,
          151,
          173,
          223,
          283,
          360,
          434,
          519,
          606,
          724,
          2069,
          2470,
          3072,
          3577,
          4281,
          4789,
          5274,
          5865,
          6761,
          7529
         ],
         "y": [
          6500,
          13125,
          14175,
          15404,
          15701,
          16999,
          20707,
          20864,
          25144,
          27688,
          47951,
          69245,
          79950,
          89534,
          101068,
          114015,
          127919,
          144910,
          161330,
          179374
         ]
        },
        {
         "mode": "lines+markers",
         "name": "USA",
         "type": "scatter",
         "x": [
          60,
          66,
          69,
          89,
          103,
          125,
          159,
          233,
          338,
          433,
          554,
          754,
          1025,
          1312,
          1663,
          2174,
          2951,
          3774,
          4661,
          6427,
          9415,
          14250,
          19624,
          26747,
          35206,
          46442,
          55231,
          69194,
          85991,
          104686,
          124665,
          143025,
          164620,
          189618,
          216721,
          245540,
          277965,
          312237,
          337635,
          368196,
          398809,
          432132
         ],
         "y": [
          9,
          18,
          31,
          35,
          66,
          916,
          1174,
          1884,
          2260,
          2897,
          4137,
          4817,
          7366,
          9560,
          15777,
          19774,
          26076,
          40402,
          53730,
          74323,
          101337,
          135715,
          179579,
          225782,
          280128,
          345419,
          422449,
          520408,
          628632,
          736972,
          832456,
          945518,
          1050037,
          1151017,
          1269912,
          1399629,
          1625519,
          1763652,
          1910310,
          2058060,
          2198254,
          2360512
         ]
        },
        {
         "mode": "lines+markers",
         "name": "Italy",
         "type": "scatter",
         "x": [
          132,
          229,
          322,
          400,
          650,
          888,
          1128,
          1689,
          2036,
          2502,
          3089,
          3858,
          4636,
          5883,
          7375,
          9172,
          10149,
          12462,
          15113,
          17660,
          21157,
          23980,
          27980,
          31506,
          35713,
          41035,
          47021,
          53578,
          59138,
          63927,
          69176,
          74386,
          80539,
          86498,
          92472,
          97689,
          101739,
          105792,
          110574,
          115242,
          119827,
          124632,
          128948,
          132547,
          135586,
          139422,
          143626
         ],
         "y": [
          4324,
          8623,
          9587,
          12014,
          15695,
          18661,
          21127,
          23345,
          25856,
          29837,
          32362,
          36359,
          42062,
          49937,
          53826,
          60761,
          73154,
          86011,
          97488,
          109170,
          124899,
          137962,
          148657,
          165541,
          182777,
          206886,
          233222,
          258402,
          275468,
          296964,
          324445,
          361060,
          394079,
          429526,
          454030,
          477359,
          506968,
          541423,
          581232,
          619849,
          657224,
          691461,
          721732,
          755445,
          807125,
          853369,
          906864
         ]
        }
       ],
       "layout": {
        "autosize": false,
        "height": 900,
        "template": {
         "data": {
          "bar": [
           {
            "error_x": {
             "color": "#2a3f5f"
            },
            "error_y": {
             "color": "#2a3f5f"
            },
            "marker": {
             "line": {
              "color": "#E5ECF6",
              "width": 0.5
             }
            },
            "type": "bar"
           }
          ],
          "barpolar": [
           {
            "marker": {
             "line": {
              "color": "#E5ECF6",
              "width": 0.5
             }
            },
            "type": "barpolar"
           }
          ],
          "carpet": [
           {
            "aaxis": {
             "endlinecolor": "#2a3f5f",
             "gridcolor": "white",
             "linecolor": "white",
             "minorgridcolor": "white",
             "startlinecolor": "#2a3f5f"
            },
            "baxis": {
             "endlinecolor": "#2a3f5f",
             "gridcolor": "white",
             "linecolor": "white",
             "minorgridcolor": "white",
             "startlinecolor": "#2a3f5f"
            },
            "type": "carpet"
           }
          ],
          "choropleth": [
           {
            "colorbar": {
             "outlinewidth": 0,
             "ticks": ""
            },
            "type": "choropleth"
           }
          ],
          "contour": [
           {
            "colorbar": {
             "outlinewidth": 0,
             "ticks": ""
            },
            "colorscale": [
             [
              0,
              "#0d0887"
             ],
             [
              0.1111111111111111,
              "#46039f"
             ],
             [
              0.2222222222222222,
              "#7201a8"
             ],
             [
              0.3333333333333333,
              "#9c179e"
             ],
             [
              0.4444444444444444,
              "#bd3786"
             ],
             [
              0.5555555555555556,
              "#d8576b"
             ],
             [
              0.6666666666666666,
              "#ed7953"
             ],
             [
              0.7777777777777778,
              "#fb9f3a"
             ],
             [
              0.8888888888888888,
              "#fdca26"
             ],
             [
              1,
              "#f0f921"
             ]
            ],
            "type": "contour"
           }
          ],
          "contourcarpet": [
           {
            "colorbar": {
             "outlinewidth": 0,
             "ticks": ""
            },
            "type": "contourcarpet"
           }
          ],
          "heatmap": [
           {
            "colorbar": {
             "outlinewidth": 0,
             "ticks": ""
            },
            "colorscale": [
             [
              0,
              "#0d0887"
             ],
             [
              0.1111111111111111,
              "#46039f"
             ],
             [
              0.2222222222222222,
              "#7201a8"
             ],
             [
              0.3333333333333333,
              "#9c179e"
             ],
             [
              0.4444444444444444,
              "#bd3786"
             ],
             [
              0.5555555555555556,
              "#d8576b"
             ],
             [
              0.6666666666666666,
              "#ed7953"
             ],
             [
              0.7777777777777778,
              "#fb9f3a"
             ],
             [
              0.8888888888888888,
              "#fdca26"
             ],
             [
              1,
              "#f0f921"
             ]
            ],
            "type": "heatmap"
           }
          ],
          "heatmapgl": [
           {
            "colorbar": {
             "outlinewidth": 0,
             "ticks": ""
            },
            "colorscale": [
             [
              0,
              "#0d0887"
             ],
             [
              0.1111111111111111,
              "#46039f"
             ],
             [
              0.2222222222222222,
              "#7201a8"
             ],
             [
              0.3333333333333333,
              "#9c179e"
             ],
             [
              0.4444444444444444,
              "#bd3786"
             ],
             [
              0.5555555555555556,
              "#d8576b"
             ],
             [
              0.6666666666666666,
              "#ed7953"
             ],
             [
              0.7777777777777778,
              "#fb9f3a"
             ],
             [
              0.8888888888888888,
              "#fdca26"
             ],
             [
              1,
              "#f0f921"
             ]
            ],
            "type": "heatmapgl"
           }
          ],
          "histogram": [
           {
            "marker": {
             "colorbar": {
              "outlinewidth": 0,
              "ticks": ""
             }
            },
            "type": "histogram"
           }
          ],
          "histogram2d": [
           {
            "colorbar": {
             "outlinewidth": 0,
             "ticks": ""
            },
            "colorscale": [
             [
              0,
              "#0d0887"
             ],
             [
              0.1111111111111111,
              "#46039f"
             ],
             [
              0.2222222222222222,
              "#7201a8"
             ],
             [
              0.3333333333333333,
              "#9c179e"
             ],
             [
              0.4444444444444444,
              "#bd3786"
             ],
             [
              0.5555555555555556,
              "#d8576b"
             ],
             [
              0.6666666666666666,
              "#ed7953"
             ],
             [
              0.7777777777777778,
              "#fb9f3a"
             ],
             [
              0.8888888888888888,
              "#fdca26"
             ],
             [
              1,
              "#f0f921"
             ]
            ],
            "type": "histogram2d"
           }
          ],
          "histogram2dcontour": [
           {
            "colorbar": {
             "outlinewidth": 0,
             "ticks": ""
            },
            "colorscale": [
             [
              0,
              "#0d0887"
             ],
             [
              0.1111111111111111,
              "#46039f"
             ],
             [
              0.2222222222222222,
              "#7201a8"
             ],
             [
              0.3333333333333333,
              "#9c179e"
             ],
             [
              0.4444444444444444,
              "#bd3786"
             ],
             [
              0.5555555555555556,
              "#d8576b"
             ],
             [
              0.6666666666666666,
              "#ed7953"
             ],
             [
              0.7777777777777778,
              "#fb9f3a"
             ],
             [
              0.8888888888888888,
              "#fdca26"
             ],
             [
              1,
              "#f0f921"
             ]
            ],
            "type": "histogram2dcontour"
           }
          ],
          "mesh3d": [
           {
            "colorbar": {
             "outlinewidth": 0,
             "ticks": ""
            },
            "type": "mesh3d"
           }
          ],
          "parcoords": [
           {
            "line": {
             "colorbar": {
              "outlinewidth": 0,
              "ticks": ""
             }
            },
            "type": "parcoords"
           }
          ],
          "pie": [
           {
            "automargin": true,
            "type": "pie"
           }
          ],
          "scatter": [
           {
            "marker": {
             "colorbar": {
              "outlinewidth": 0,
              "ticks": ""
             }
            },
            "type": "scatter"
           }
          ],
          "scatter3d": [
           {
            "line": {
             "colorbar": {
              "outlinewidth": 0,
              "ticks": ""
             }
            },
            "marker": {
             "colorbar": {
              "outlinewidth": 0,
              "ticks": ""
             }
            },
            "type": "scatter3d"
           }
          ],
          "scattercarpet": [
           {
            "marker": {
             "colorbar": {
              "outlinewidth": 0,
              "ticks": ""
             }
            },
            "type": "scattercarpet"
           }
          ],
          "scattergeo": [
           {
            "marker": {
             "colorbar": {
              "outlinewidth": 0,
              "ticks": ""
             }
            },
            "type": "scattergeo"
           }
          ],
          "scattergl": [
           {
            "marker": {
             "colorbar": {
              "outlinewidth": 0,
              "ticks": ""
             }
            },
            "type": "scattergl"
           }
          ],
          "scattermapbox": [
           {
            "marker": {
             "colorbar": {
              "outlinewidth": 0,
              "ticks": ""
             }
            },
            "type": "scattermapbox"
           }
          ],
          "scatterpolar": [
           {
            "marker": {
             "colorbar": {
              "outlinewidth": 0,
              "ticks": ""
             }
            },
            "type": "scatterpolar"
           }
          ],
          "scatterpolargl": [
           {
            "marker": {
             "colorbar": {
              "outlinewidth": 0,
              "ticks": ""
             }
            },
            "type": "scatterpolargl"
           }
          ],
          "scatterternary": [
           {
            "marker": {
             "colorbar": {
              "outlinewidth": 0,
              "ticks": ""
             }
            },
            "type": "scatterternary"
           }
          ],
          "surface": [
           {
            "colorbar": {
             "outlinewidth": 0,
             "ticks": ""
            },
            "colorscale": [
             [
              0,
              "#0d0887"
             ],
             [
              0.1111111111111111,
              "#46039f"
             ],
             [
              0.2222222222222222,
              "#7201a8"
             ],
             [
              0.3333333333333333,
              "#9c179e"
             ],
             [
              0.4444444444444444,
              "#bd3786"
             ],
             [
              0.5555555555555556,
              "#d8576b"
             ],
             [
              0.6666666666666666,
              "#ed7953"
             ],
             [
              0.7777777777777778,
              "#fb9f3a"
             ],
             [
              0.8888888888888888,
              "#fdca26"
             ],
             [
              1,
              "#f0f921"
             ]
            ],
            "type": "surface"
           }
          ],
          "table": [
           {
            "cells": {
             "fill": {
              "color": "#EBF0F8"
             },
             "line": {
              "color": "white"
             }
            },
            "header": {
             "fill": {
              "color": "#C8D4E3"
             },
             "line": {
              "color": "white"
             }
            },
            "type": "table"
           }
          ]
         },
         "layout": {
          "annotationdefaults": {
           "arrowcolor": "#2a3f5f",
           "arrowhead": 0,
           "arrowwidth": 1
          },
          "coloraxis": {
           "colorbar": {
            "outlinewidth": 0,
            "ticks": ""
           }
          },
          "colorscale": {
           "diverging": [
            [
             0,
             "#8e0152"
            ],
            [
             0.1,
             "#c51b7d"
            ],
            [
             0.2,
             "#de77ae"
            ],
            [
             0.3,
             "#f1b6da"
            ],
            [
             0.4,
             "#fde0ef"
            ],
            [
             0.5,
             "#f7f7f7"
            ],
            [
             0.6,
             "#e6f5d0"
            ],
            [
             0.7,
             "#b8e186"
            ],
            [
             0.8,
             "#7fbc41"
            ],
            [
             0.9,
             "#4d9221"
            ],
            [
             1,
             "#276419"
            ]
           ],
           "sequential": [
            [
             0,
             "#0d0887"
            ],
            [
             0.1111111111111111,
             "#46039f"
            ],
            [
             0.2222222222222222,
             "#7201a8"
            ],
            [
             0.3333333333333333,
             "#9c179e"
            ],
            [
             0.4444444444444444,
             "#bd3786"
            ],
            [
             0.5555555555555556,
             "#d8576b"
            ],
            [
             0.6666666666666666,
             "#ed7953"
            ],
            [
             0.7777777777777778,
             "#fb9f3a"
            ],
            [
             0.8888888888888888,
             "#fdca26"
            ],
            [
             1,
             "#f0f921"
            ]
           ],
           "sequentialminus": [
            [
             0,
             "#0d0887"
            ],
            [
             0.1111111111111111,
             "#46039f"
            ],
            [
             0.2222222222222222,
             "#7201a8"
            ],
            [
             0.3333333333333333,
             "#9c179e"
            ],
            [
             0.4444444444444444,
             "#bd3786"
            ],
            [
             0.5555555555555556,
             "#d8576b"
            ],
            [
             0.6666666666666666,
             "#ed7953"
            ],
            [
             0.7777777777777778,
             "#fb9f3a"
            ],
            [
             0.8888888888888888,
             "#fdca26"
            ],
            [
             1,
             "#f0f921"
            ]
           ]
          },
          "colorway": [
           "#636efa",
           "#EF553B",
           "#00cc96",
           "#ab63fa",
           "#FFA15A",
           "#19d3f3",
           "#FF6692",
           "#B6E880",
           "#FF97FF",
           "#FECB52"
          ],
          "font": {
           "color": "#2a3f5f"
          },
          "geo": {
           "bgcolor": "white",
           "lakecolor": "white",
           "landcolor": "#E5ECF6",
           "showlakes": true,
           "showland": true,
           "subunitcolor": "white"
          },
          "hoverlabel": {
           "align": "left"
          },
          "hovermode": "closest",
          "mapbox": {
           "style": "light"
          },
          "paper_bgcolor": "white",
          "plot_bgcolor": "#E5ECF6",
          "polar": {
           "angularaxis": {
            "gridcolor": "white",
            "linecolor": "white",
            "ticks": ""
           },
           "bgcolor": "#E5ECF6",
           "radialaxis": {
            "gridcolor": "white",
            "linecolor": "white",
            "ticks": ""
           }
          },
          "scene": {
           "xaxis": {
            "backgroundcolor": "#E5ECF6",
            "gridcolor": "white",
            "gridwidth": 2,
            "linecolor": "white",
            "showbackground": true,
            "ticks": "",
            "zerolinecolor": "white"
           },
           "yaxis": {
            "backgroundcolor": "#E5ECF6",
            "gridcolor": "white",
            "gridwidth": 2,
            "linecolor": "white",
            "showbackground": true,
            "ticks": "",
            "zerolinecolor": "white"
           },
           "zaxis": {
            "backgroundcolor": "#E5ECF6",
            "gridcolor": "white",
            "gridwidth": 2,
            "linecolor": "white",
            "showbackground": true,
            "ticks": "",
            "zerolinecolor": "white"
           }
          },
          "shapedefaults": {
           "line": {
            "color": "#2a3f5f"
           }
          },
          "ternary": {
           "aaxis": {
            "gridcolor": "white",
            "linecolor": "white",
            "ticks": ""
           },
           "baxis": {
            "gridcolor": "white",
            "linecolor": "white",
            "ticks": ""
           },
           "bgcolor": "#E5ECF6",
           "caxis": {
            "gridcolor": "white",
            "linecolor": "white",
            "ticks": ""
           }
          },
          "title": {
           "x": 0.05
          },
          "xaxis": {
           "automargin": true,
           "gridcolor": "white",
           "linecolor": "white",
           "ticks": "",
           "title": {
            "standoff": 15
           },
           "zerolinecolor": "white",
           "zerolinewidth": 2
          },
          "yaxis": {
           "automargin": true,
           "gridcolor": "white",
           "linecolor": "white",
           "ticks": "",
           "title": {
            "standoff": 15
           },
           "zerolinecolor": "white",
           "zerolinewidth": 2
          }
         }
        },
        "title": {
         "text": "Total tests for COVID-19 against total number of confirmed cases (As of Apr 11, 2020)"
        },
        "width": 1200,
        "xaxis": {
         "title": {
          "text": "Total number of confirmed cases"
         }
        },
        "yaxis": {
         "title": {
          "text": "Total number of cases tested"
         }
        }
       }
      },
      "text/html": [
       "<div>\n",
       "        \n",
       "        \n",
       "            <div id=\"3ee823e7-d198-4bc7-a224-8f943b70ab4d\" class=\"plotly-graph-div\" style=\"height:900px; width:1200px;\"></div>\n",
       "            <script type=\"text/javascript\">\n",
       "                require([\"plotly\"], function(Plotly) {\n",
       "                    window.PLOTLYENV=window.PLOTLYENV || {};\n",
       "                    \n",
       "                if (document.getElementById(\"3ee823e7-d198-4bc7-a224-8f943b70ab4d\")) {\n",
       "                    Plotly.newPlot(\n",
       "                        '3ee823e7-d198-4bc7-a224-8f943b70ab4d',\n",
       "                        [{\"mode\": \"lines+markers\", \"name\": \"South Korea\", \"type\": \"scatter\", \"x\": [1, 1, 2, 3, 4, 4, 4, 12, 15, 15, 16, 18, 23, 24, 24, 25, 27, 28, 28, 28, 28, 28, 29, 30, 31, 46, 80, 155, 345, 601, 762, 892, 1146, 1595, 2022, 2931, 3526, 4212, 4812, 5328, 5766, 6284, 6767, 7134, 7382, 7513, 7755, 7869, 7979, 8086, 8162, 8236, 8320, 8413, 8565, 8652, 8799, 8897, 8961, 9037, 9137, 9241, 9332, 9478, 9583, 9661, 9786, 9786, 9976, 10062, 10156, 10237, 10284, 10331, 10384, 10423, 10450], \"y\": [11, 16, 25, 48, 57, 187, 244, 371, 429, 429, 607, 714, 885, 1130, 1701, 2340, 2776, 3629, 5074, 5797, 6854, 7519, 7919, 8171, 9265, 10411, 12161, 14816, 19621, 22633, 28615, 36716, 46127, 57990, 70940, 85693, 96985, 109591, 125851, 136707, 146541, 164740, 178189, 188518, 196618, 210144, 222395, 234998, 248647, 261335, 268212, 274504, 286716, 295647, 307024, 316664, 327509, 331780, 338036, 348582, 357896, 364942, 376961, 387925, 394141, 395194, 410564, 421547, 431743, 443273, 455032, 461233, 466804, 477304, 486003, 494711, 503051]}, {\"mode\": \"lines+markers\", \"name\": \"India\", \"type\": \"scatter\", \"x\": [79, 151, 173, 223, 283, 360, 434, 519, 606, 724, 2069, 2470, 3072, 3577, 4281, 4789, 5274, 5865, 6761, 7529], \"y\": [6500, 13125, 14175, 15404, 15701, 16999, 20707, 20864, 25144, 27688, 47951, 69245, 79950, 89534, 101068, 114015, 127919, 144910, 161330, 179374]}, {\"mode\": \"lines+markers\", \"name\": \"USA\", \"type\": \"scatter\", \"x\": [60, 66, 69, 89, 103, 125, 159, 233, 338, 433, 554, 754, 1025, 1312, 1663, 2174, 2951, 3774, 4661, 6427, 9415, 14250, 19624, 26747, 35206, 46442, 55231, 69194, 85991, 104686, 124665, 143025, 164620, 189618, 216721, 245540, 277965, 312237, 337635, 368196, 398809, 432132], \"y\": [9, 18, 31, 35, 66, 916, 1174, 1884, 2260, 2897, 4137, 4817, 7366, 9560, 15777, 19774, 26076, 40402, 53730, 74323, 101337, 135715, 179579, 225782, 280128, 345419, 422449, 520408, 628632, 736972, 832456, 945518, 1050037, 1151017, 1269912, 1399629, 1625519, 1763652, 1910310, 2058060, 2198254, 2360512]}, {\"mode\": \"lines+markers\", \"name\": \"Italy\", \"type\": \"scatter\", \"x\": [132, 229, 322, 400, 650, 888, 1128, 1689, 2036, 2502, 3089, 3858, 4636, 5883, 7375, 9172, 10149, 12462, 15113, 17660, 21157, 23980, 27980, 31506, 35713, 41035, 47021, 53578, 59138, 63927, 69176, 74386, 80539, 86498, 92472, 97689, 101739, 105792, 110574, 115242, 119827, 124632, 128948, 132547, 135586, 139422, 143626], \"y\": [4324, 8623, 9587, 12014, 15695, 18661, 21127, 23345, 25856, 29837, 32362, 36359, 42062, 49937, 53826, 60761, 73154, 86011, 97488, 109170, 124899, 137962, 148657, 165541, 182777, 206886, 233222, 258402, 275468, 296964, 324445, 361060, 394079, 429526, 454030, 477359, 506968, 541423, 581232, 619849, 657224, 691461, 721732, 755445, 807125, 853369, 906864]}],\n",
       "                        {\"autosize\": false, \"height\": 900, \"template\": {\"data\": {\"bar\": [{\"error_x\": {\"color\": \"#2a3f5f\"}, \"error_y\": {\"color\": \"#2a3f5f\"}, \"marker\": {\"line\": {\"color\": \"#E5ECF6\", \"width\": 0.5}}, \"type\": \"bar\"}], \"barpolar\": [{\"marker\": {\"line\": {\"color\": \"#E5ECF6\", \"width\": 0.5}}, \"type\": \"barpolar\"}], \"carpet\": [{\"aaxis\": {\"endlinecolor\": \"#2a3f5f\", \"gridcolor\": \"white\", \"linecolor\": \"white\", \"minorgridcolor\": \"white\", \"startlinecolor\": \"#2a3f5f\"}, \"baxis\": {\"endlinecolor\": \"#2a3f5f\", \"gridcolor\": \"white\", \"linecolor\": \"white\", \"minorgridcolor\": \"white\", \"startlinecolor\": \"#2a3f5f\"}, \"type\": \"carpet\"}], \"choropleth\": [{\"colorbar\": {\"outlinewidth\": 0, \"ticks\": \"\"}, \"type\": \"choropleth\"}], \"contour\": [{\"colorbar\": {\"outlinewidth\": 0, \"ticks\": \"\"}, \"colorscale\": [[0.0, \"#0d0887\"], [0.1111111111111111, \"#46039f\"], [0.2222222222222222, \"#7201a8\"], [0.3333333333333333, \"#9c179e\"], [0.4444444444444444, \"#bd3786\"], [0.5555555555555556, \"#d8576b\"], [0.6666666666666666, \"#ed7953\"], [0.7777777777777778, \"#fb9f3a\"], [0.8888888888888888, \"#fdca26\"], [1.0, \"#f0f921\"]], \"type\": \"contour\"}], \"contourcarpet\": [{\"colorbar\": {\"outlinewidth\": 0, \"ticks\": \"\"}, \"type\": \"contourcarpet\"}], \"heatmap\": [{\"colorbar\": {\"outlinewidth\": 0, \"ticks\": \"\"}, \"colorscale\": [[0.0, \"#0d0887\"], [0.1111111111111111, \"#46039f\"], [0.2222222222222222, \"#7201a8\"], [0.3333333333333333, \"#9c179e\"], [0.4444444444444444, \"#bd3786\"], [0.5555555555555556, \"#d8576b\"], [0.6666666666666666, \"#ed7953\"], [0.7777777777777778, \"#fb9f3a\"], [0.8888888888888888, \"#fdca26\"], [1.0, \"#f0f921\"]], \"type\": \"heatmap\"}], \"heatmapgl\": [{\"colorbar\": {\"outlinewidth\": 0, \"ticks\": \"\"}, \"colorscale\": [[0.0, \"#0d0887\"], [0.1111111111111111, \"#46039f\"], [0.2222222222222222, \"#7201a8\"], [0.3333333333333333, \"#9c179e\"], [0.4444444444444444, \"#bd3786\"], [0.5555555555555556, \"#d8576b\"], [0.6666666666666666, \"#ed7953\"], [0.7777777777777778, \"#fb9f3a\"], [0.8888888888888888, \"#fdca26\"], [1.0, \"#f0f921\"]], \"type\": \"heatmapgl\"}], \"histogram\": [{\"marker\": {\"colorbar\": {\"outlinewidth\": 0, \"ticks\": \"\"}}, \"type\": \"histogram\"}], \"histogram2d\": [{\"colorbar\": {\"outlinewidth\": 0, \"ticks\": \"\"}, \"colorscale\": [[0.0, \"#0d0887\"], [0.1111111111111111, \"#46039f\"], [0.2222222222222222, \"#7201a8\"], [0.3333333333333333, \"#9c179e\"], [0.4444444444444444, \"#bd3786\"], [0.5555555555555556, \"#d8576b\"], [0.6666666666666666, \"#ed7953\"], [0.7777777777777778, \"#fb9f3a\"], [0.8888888888888888, \"#fdca26\"], [1.0, \"#f0f921\"]], \"type\": \"histogram2d\"}], \"histogram2dcontour\": [{\"colorbar\": {\"outlinewidth\": 0, \"ticks\": \"\"}, \"colorscale\": [[0.0, \"#0d0887\"], [0.1111111111111111, \"#46039f\"], [0.2222222222222222, \"#7201a8\"], [0.3333333333333333, \"#9c179e\"], [0.4444444444444444, \"#bd3786\"], [0.5555555555555556, \"#d8576b\"], [0.6666666666666666, \"#ed7953\"], [0.7777777777777778, \"#fb9f3a\"], [0.8888888888888888, \"#fdca26\"], [1.0, \"#f0f921\"]], \"type\": \"histogram2dcontour\"}], \"mesh3d\": [{\"colorbar\": {\"outlinewidth\": 0, \"ticks\": \"\"}, \"type\": \"mesh3d\"}], \"parcoords\": [{\"line\": {\"colorbar\": {\"outlinewidth\": 0, \"ticks\": \"\"}}, \"type\": \"parcoords\"}], \"pie\": [{\"automargin\": true, \"type\": \"pie\"}], \"scatter\": [{\"marker\": {\"colorbar\": {\"outlinewidth\": 0, \"ticks\": \"\"}}, \"type\": \"scatter\"}], \"scatter3d\": [{\"line\": {\"colorbar\": {\"outlinewidth\": 0, \"ticks\": \"\"}}, \"marker\": {\"colorbar\": {\"outlinewidth\": 0, \"ticks\": \"\"}}, \"type\": \"scatter3d\"}], \"scattercarpet\": [{\"marker\": {\"colorbar\": {\"outlinewidth\": 0, \"ticks\": \"\"}}, \"type\": \"scattercarpet\"}], \"scattergeo\": [{\"marker\": {\"colorbar\": {\"outlinewidth\": 0, \"ticks\": \"\"}}, \"type\": \"scattergeo\"}], \"scattergl\": [{\"marker\": {\"colorbar\": {\"outlinewidth\": 0, \"ticks\": \"\"}}, \"type\": \"scattergl\"}], \"scattermapbox\": [{\"marker\": {\"colorbar\": {\"outlinewidth\": 0, \"ticks\": \"\"}}, \"type\": \"scattermapbox\"}], \"scatterpolar\": [{\"marker\": {\"colorbar\": {\"outlinewidth\": 0, \"ticks\": \"\"}}, \"type\": \"scatterpolar\"}], \"scatterpolargl\": [{\"marker\": {\"colorbar\": {\"outlinewidth\": 0, \"ticks\": \"\"}}, \"type\": \"scatterpolargl\"}], \"scatterternary\": [{\"marker\": {\"colorbar\": {\"outlinewidth\": 0, \"ticks\": \"\"}}, \"type\": \"scatterternary\"}], \"surface\": [{\"colorbar\": {\"outlinewidth\": 0, \"ticks\": \"\"}, \"colorscale\": [[0.0, \"#0d0887\"], [0.1111111111111111, \"#46039f\"], [0.2222222222222222, \"#7201a8\"], [0.3333333333333333, \"#9c179e\"], [0.4444444444444444, \"#bd3786\"], [0.5555555555555556, \"#d8576b\"], [0.6666666666666666, \"#ed7953\"], [0.7777777777777778, \"#fb9f3a\"], [0.8888888888888888, \"#fdca26\"], [1.0, \"#f0f921\"]], \"type\": \"surface\"}], \"table\": [{\"cells\": {\"fill\": {\"color\": \"#EBF0F8\"}, \"line\": {\"color\": \"white\"}}, \"header\": {\"fill\": {\"color\": \"#C8D4E3\"}, \"line\": {\"color\": \"white\"}}, \"type\": \"table\"}]}, \"layout\": {\"annotationdefaults\": {\"arrowcolor\": \"#2a3f5f\", \"arrowhead\": 0, \"arrowwidth\": 1}, \"coloraxis\": {\"colorbar\": {\"outlinewidth\": 0, \"ticks\": \"\"}}, \"colorscale\": {\"diverging\": [[0, \"#8e0152\"], [0.1, \"#c51b7d\"], [0.2, \"#de77ae\"], [0.3, \"#f1b6da\"], [0.4, \"#fde0ef\"], [0.5, \"#f7f7f7\"], [0.6, \"#e6f5d0\"], [0.7, \"#b8e186\"], [0.8, \"#7fbc41\"], [0.9, \"#4d9221\"], [1, \"#276419\"]], \"sequential\": [[0.0, \"#0d0887\"], [0.1111111111111111, \"#46039f\"], [0.2222222222222222, \"#7201a8\"], [0.3333333333333333, \"#9c179e\"], [0.4444444444444444, \"#bd3786\"], [0.5555555555555556, \"#d8576b\"], [0.6666666666666666, \"#ed7953\"], [0.7777777777777778, \"#fb9f3a\"], [0.8888888888888888, \"#fdca26\"], [1.0, \"#f0f921\"]], \"sequentialminus\": [[0.0, \"#0d0887\"], [0.1111111111111111, \"#46039f\"], [0.2222222222222222, \"#7201a8\"], [0.3333333333333333, \"#9c179e\"], [0.4444444444444444, \"#bd3786\"], [0.5555555555555556, \"#d8576b\"], [0.6666666666666666, \"#ed7953\"], [0.7777777777777778, \"#fb9f3a\"], [0.8888888888888888, \"#fdca26\"], [1.0, \"#f0f921\"]]}, \"colorway\": [\"#636efa\", \"#EF553B\", \"#00cc96\", \"#ab63fa\", \"#FFA15A\", \"#19d3f3\", \"#FF6692\", \"#B6E880\", \"#FF97FF\", \"#FECB52\"], \"font\": {\"color\": \"#2a3f5f\"}, \"geo\": {\"bgcolor\": \"white\", \"lakecolor\": \"white\", \"landcolor\": \"#E5ECF6\", \"showlakes\": true, \"showland\": true, \"subunitcolor\": \"white\"}, \"hoverlabel\": {\"align\": \"left\"}, \"hovermode\": \"closest\", \"mapbox\": {\"style\": \"light\"}, \"paper_bgcolor\": \"white\", \"plot_bgcolor\": \"#E5ECF6\", \"polar\": {\"angularaxis\": {\"gridcolor\": \"white\", \"linecolor\": \"white\", \"ticks\": \"\"}, \"bgcolor\": \"#E5ECF6\", \"radialaxis\": {\"gridcolor\": \"white\", \"linecolor\": \"white\", \"ticks\": \"\"}}, \"scene\": {\"xaxis\": {\"backgroundcolor\": \"#E5ECF6\", \"gridcolor\": \"white\", \"gridwidth\": 2, \"linecolor\": \"white\", \"showbackground\": true, \"ticks\": \"\", \"zerolinecolor\": \"white\"}, \"yaxis\": {\"backgroundcolor\": \"#E5ECF6\", \"gridcolor\": \"white\", \"gridwidth\": 2, \"linecolor\": \"white\", \"showbackground\": true, \"ticks\": \"\", \"zerolinecolor\": \"white\"}, \"zaxis\": {\"backgroundcolor\": \"#E5ECF6\", \"gridcolor\": \"white\", \"gridwidth\": 2, \"linecolor\": \"white\", \"showbackground\": true, \"ticks\": \"\", \"zerolinecolor\": \"white\"}}, \"shapedefaults\": {\"line\": {\"color\": \"#2a3f5f\"}}, \"ternary\": {\"aaxis\": {\"gridcolor\": \"white\", \"linecolor\": \"white\", \"ticks\": \"\"}, \"baxis\": {\"gridcolor\": \"white\", \"linecolor\": \"white\", \"ticks\": \"\"}, \"bgcolor\": \"#E5ECF6\", \"caxis\": {\"gridcolor\": \"white\", \"linecolor\": \"white\", \"ticks\": \"\"}}, \"title\": {\"x\": 0.05}, \"xaxis\": {\"automargin\": true, \"gridcolor\": \"white\", \"linecolor\": \"white\", \"ticks\": \"\", \"title\": {\"standoff\": 15}, \"zerolinecolor\": \"white\", \"zerolinewidth\": 2}, \"yaxis\": {\"automargin\": true, \"gridcolor\": \"white\", \"linecolor\": \"white\", \"ticks\": \"\", \"title\": {\"standoff\": 15}, \"zerolinecolor\": \"white\", \"zerolinewidth\": 2}}}, \"title\": {\"text\": \"Total tests for COVID-19 against total number of confirmed cases (As of Apr 11, 2020)\"}, \"width\": 1200, \"xaxis\": {\"title\": {\"text\": \"Total number of confirmed cases\"}}, \"yaxis\": {\"title\": {\"text\": \"Total number of cases tested\"}}},\n",
       "                        {\"responsive\": true}\n",
       "                    ).then(function(){\n",
       "                            \n",
       "var gd = document.getElementById('3ee823e7-d198-4bc7-a224-8f943b70ab4d');\n",
       "var x = new MutationObserver(function (mutations, observer) {{\n",
       "        var display = window.getComputedStyle(gd).display;\n",
       "        if (!display || display === 'none') {{\n",
       "            console.log([gd, 'removed!']);\n",
       "            Plotly.purge(gd);\n",
       "            observer.disconnect();\n",
       "        }}\n",
       "}});\n",
       "\n",
       "// Listen for the removal of the full notebook cells\n",
       "var notebookContainer = gd.closest('#notebook-container');\n",
       "if (notebookContainer) {{\n",
       "    x.observe(notebookContainer, {childList: true});\n",
       "}}\n",
       "\n",
       "// Listen for the clearing of the current output cell\n",
       "var outputEl = gd.closest('.output');\n",
       "if (outputEl) {{\n",
       "    x.observe(outputEl, {childList: true});\n",
       "}}\n",
       "\n",
       "                        })\n",
       "                };\n",
       "                });\n",
       "            </script>\n",
       "        </div>"
      ]
     },
     "metadata": {},
     "output_type": "display_data"
    }
   ],
   "source": [
    "fig = go.Figure()\n",
    "fig.add_trace(go.Scatter(x=sk_test_cases['South Korea'], y=sk_test_cases['Cumulative total tests'],\n",
    "                         mode='lines+markers', name='South Korea'))\n",
    "\n",
    "fig.add_trace(go.Scatter(x=india_test_totals['active_cases'], y=india_test_totals['tests'],\n",
    "                         mode='lines+markers', name='India'))\n",
    "\n",
    "fig.add_trace(go.Scatter(x=usa_test_cases['United States'], y=usa_test_cases['Cumulative total tests'],\n",
    "                         mode='lines+markers', name='USA'))\n",
    "\n",
    "fig.add_trace(go.Scatter(x=italy_test_cases['Italy'], y=italy_test_cases['Cumulative total tests'],\n",
    "                         mode='lines+markers', name='Italy'))\n",
    "\n",
    "fig.update_layout(title='Total tests for COVID-19 against total number of confirmed cases (As of Apr 11, 2020)',\n",
    "                   xaxis_title='Total number of confirmed cases',\n",
    "                   yaxis_title='Total number of cases tested')\n",
    "\n",
    "fig.update_layout(\n",
    "    autosize=False,\n",
    "    width=1200,\n",
    "    height=900,)\n",
    "\n",
    "fig.show()"
   ]
  },
  {
   "cell_type": "code",
   "execution_count": 42,
   "metadata": {
    "scrolled": false
   },
   "outputs": [
    {
     "data": {
      "image/png": "[encoded data removed]",
      "text/plain": [
       "<Figure size 1080x864 with 1 Axes>"
      ]
     },
     "metadata": {
      "needs_background": "light"
     },
     "output_type": "display_data"
    }
   ],
   "source": [
    "plt.plot(usa_test_cases['United States'], usa_test_cases['Cumulative total tests'], label='USA')\n",
    "plt.plot(india_test_totals['active_cases'], india_test_totals['tests'], label='India')\n",
    "plt.plot(sk_test_cases['South Korea'], sk_test_cases['Cumulative total tests'], label='South Korea')\n",
    "plt.plot(italy_test_cases['Italy'], italy_test_cases['Cumulative total tests'], label='Italy')\n",
    "plt.plot(pk_test_cases['Pakistan'], pk_test_cases['Cumulative total tests'], label='Pakistan')\n",
    "plt.legend(loc=\"upper left\")\n",
    "plt.title('As of April 10 for India. Axes have been truncated for other countries for the sake of comparision.', fontsize=12)\n",
    "# plt.title('As of April 6', fontsize=12)\n",
    "\n",
    "# plt.xticks(usa_test_cases['United States'], usa_test_cases['United States'], rotation='vertical')\n",
    "plt.xlabel('Total number of positive cases')\n",
    "plt.ylabel('Total number of tests')\n",
    "plt.show()"
   ]
  },
  {
   "cell_type": "code",
   "execution_count": 40,
   "metadata": {
    "scrolled": false
   },
   "outputs": [
    {
     "data": {
      "image/png": "[encoded data removed]",
      "text/plain": [
       "<Figure size 1080x864 with 1 Axes>"
      ]
     },
     "metadata": {
      "needs_background": "light"
     },
     "output_type": "display_data"
    }
   ],
   "source": [
    "plt.plot(usa_test_deaths['United States'], usa_test_deaths['Cumulative total tests'], label='USA')\n",
    "plt.plot(india_test_totals['death'], india_test_totals['tests'], label='India')\n",
    "plt.plot(sk_test_deaths['South Korea'], sk_test_deaths['Cumulative total tests'], label='South Korea')\n",
    "plt.plot(italy_test_deaths['Italy'], italy_test_deaths['Cumulative total tests'], label='Italy')\n",
    "plt.plot(pk_test_deaths['Pakistan'], pk_test_deaths['Cumulative total tests'], label='Pakistan')\n",
    "plt.legend(loc=\"upper left\")\n",
    "plt.title('As of April 9 for India. Axes have been truncated for other countries for the sake of comparision.', fontsize=12)\n",
    "# plt.title('As of April 6', fontsize=12)\n",
    "# plt.xticks(usa_test_cases['United States'], usa_test_cases['United States'], rotation='vertical')\n",
    "plt.xlabel('Total number of deaths')\n",
    "plt.ylabel('Total number of tests')\n",
    "plt.show()"
   ]
  },
  {
   "cell_type": "code",
   "execution_count": 69,
   "metadata": {},
   "outputs": [],
   "source": [
    "tpm_world = pd.read_csv('data/full-list-cumulative-total-tests-per-thousand.csv')"
   ]
  },
  {
   "cell_type": "code",
   "execution_count": 114,
   "metadata": {},
   "outputs": [],
   "source": [
    "tpm_italy = tpm_world[tpm_world['Entity'] == 'Italy'].reset_index(drop=True)\n",
    "tpm_italy = tpm_italy[['Date', 'Cumulative total tests per thousand']]\n",
    "tpm_italy.columns = ['date', 'tpm_italy']\n",
    "tpm_italy['tpm_italy'] = tpm_italy['tpm_italy']*1000"
   ]
  },
  {
   "cell_type": "code",
   "execution_count": 115,
   "metadata": {},
   "outputs": [],
   "source": [
    "tpm_sk = tpm_world[tpm_world['Entity'] == 'South Korea'].reset_index(drop=True)\n",
    "tpm_sk = tpm_sk[['Date', 'Cumulative total tests per thousand']]\n",
    "tpm_sk.columns = ['date', 'tpm_sk']\n",
    "tpm_sk['tpm_sk'] = tpm_sk['tpm_sk']*1000"
   ]
  },
  {
   "cell_type": "code",
   "execution_count": 116,
   "metadata": {},
   "outputs": [],
   "source": [
    "tpm_sk_italy = pd.merge(tpm_sk, tpm_italy, 'outer', on='date').fillna(0)"
   ]
  },
  {
   "cell_type": "code",
   "execution_count": 117,
   "metadata": {},
   "outputs": [],
   "source": [
    "tpm_sk_italy = tpm_sk_italy[12:]"
   ]
  },
  {
   "cell_type": "code",
   "execution_count": 118,
   "metadata": {},
   "outputs": [],
   "source": [
    "tpm_sk_italy['date'] = tpm_sk_italy['date'].str[:-6]"
   ]
  },
  {
   "cell_type": "code",
   "execution_count": 122,
   "metadata": {},
   "outputs": [
    {
     "data": {
      "text/html": [
       "<div>\n",
       "<style scoped>\n",
       "    .dataframe tbody tr th:only-of-type {\n",
       "        vertical-align: middle;\n",
       "    }\n",
       "\n",
       "    .dataframe tbody tr th {\n",
       "        vertical-align: top;\n",
       "    }\n",
       "\n",
       "    .dataframe thead th {\n",
       "        text-align: right;\n",
       "    }\n",
       "</style>\n",
       "<table border=\"1\" class=\"dataframe\">\n",
       "  <thead>\n",
       "    <tr style=\"text-align: right;\">\n",
       "      <th></th>\n",
       "      <th>date</th>\n",
       "      <th>tpm_sk</th>\n",
       "      <th>tpm_italy</th>\n",
       "    </tr>\n",
       "  </thead>\n",
       "  <tbody>\n",
       "    <tr>\n",
       "      <th>12</th>\n",
       "      <td>Feb 6</td>\n",
       "      <td>17.182139</td>\n",
       "      <td>0.0</td>\n",
       "    </tr>\n",
       "    <tr>\n",
       "      <th>13</th>\n",
       "      <td>Feb 7</td>\n",
       "      <td>21.938776</td>\n",
       "      <td>0.0</td>\n",
       "    </tr>\n",
       "    <tr>\n",
       "      <th>14</th>\n",
       "      <td>Feb 8</td>\n",
       "      <td>33.024653</td>\n",
       "      <td>0.0</td>\n",
       "    </tr>\n",
       "    <tr>\n",
       "      <th>15</th>\n",
       "      <td>Feb 9</td>\n",
       "      <td>45.430740</td>\n",
       "      <td>0.0</td>\n",
       "    </tr>\n",
       "    <tr>\n",
       "      <th>16</th>\n",
       "      <td>Feb 10</td>\n",
       "      <td>53.895613</td>\n",
       "      <td>0.0</td>\n",
       "    </tr>\n",
       "  </tbody>\n",
       "</table>\n",
       "</div>"
      ],
      "text/plain": [
       "      date     tpm_sk  tpm_italy\n",
       "12   Feb 6  17.182139        0.0\n",
       "13   Feb 7  21.938776        0.0\n",
       "14   Feb 8  33.024653        0.0\n",
       "15   Feb 9  45.430740        0.0\n",
       "16  Feb 10  53.895613        0.0"
      ]
     },
     "execution_count": 122,
     "metadata": {},
     "output_type": "execute_result"
    }
   ],
   "source": [
    "tpm_sk_italy.head()"
   ]
  },
  {
   "cell_type": "code",
   "execution_count": 120,
   "metadata": {},
   "outputs": [],
   "source": [
    "import plotly.graph_objects as go\n",
    "import plotly"
   ]
  },
  {
   "cell_type": "code",
   "execution_count": 192,
   "metadata": {
    "scrolled": false
   },
   "outputs": [
    {
     "data": {
      "application/vnd.plotly.v1+json": {
       "config": {
        "plotlyServerURL": "https://plot.ly"
       },
       "data": [
        {
         "mode": "lines+markers",
         "name": "Italy",
         "type": "scatter",
         "x": [
          "Feb 6",
          "Feb 7",
          "Feb 8",
          "Feb 9",
          "Feb 10",
          "Feb 11",
          "Feb 12",
          "Feb 13",
          "Feb 14",
          "Feb 15",
          "Feb 16",
          "Feb 17",
          "Feb 18",
          "Feb 19",
          "Feb 20",
          "Feb 21",
          "Feb 22",
          "Feb 23",
          "Feb 24",
          "Feb 25",
          "Feb 26",
          "Feb 27",
          "Feb 28",
          "Feb 29",
          "Mar 1",
          "Mar 2",
          "Mar 3",
          "Mar 4",
          "Mar 5",
          "Mar 6",
          "Mar 7",
          "Mar 8",
          "Mar 9",
          "Mar 10",
          "Mar 11",
          "Mar 12",
          "Mar 13",
          "Mar 14",
          "Mar 15",
          "Mar 16",
          "Mar 17",
          "Mar 18",
          "Mar 19",
          "Mar 20",
          "Mar 21",
          "Mar 22",
          "Mar 23",
          "Mar 24",
          "Mar 25",
          "Mar 26",
          "Mar 27",
          "Mar 28",
          "Mar 29",
          "Mar 30",
          "Mar 31",
          "Apr 1",
          "Apr 2",
          "Apr 3",
          "Apr 4",
          "Apr 5",
          "Apr 6",
          "Apr 7",
          "Apr 8",
          "Apr 9",
          "Apr 10",
          "Apr 11"
         ],
         "y": [
          0,
          0,
          0,
          0,
          0,
          0,
          0,
          0,
          0,
          0,
          0,
          0,
          0,
          0,
          0,
          0,
          0,
          0,
          73.1244446647423,
          145.826106925086,
          162.128596438687,
          203.17231225768103,
          265.422793481297,
          315.58169793912,
          357.28495430897493,
          394.7942092271989,
          437.25847392497104,
          504.582344001368,
          547.2833668456029,
          614.8778176608149,
          711.3229397521709,
          844.499397137658,
          910.267427965869,
          1027.54726694598,
          1237.1289604543401,
          1454.5574953883302,
          1648.64844159954,
          1846.20620352681,
          2112.20398107809,
          2333.11624302432,
          2513.98255562595,
          2799.51288026043,
          3090.9959811488393,
          3498.71042065446,
          3944.08631674388,
          4369.91275445392,
          4658.52093499242,
          5022.04615759032,
          5486.78548780118,
          6105.992597283031,
          6664.386685716231,
          7263.84140126459,
          7678.235802759699,
          8072.759431248081,
          8573.48599972134,
          9156.16470946317,
          9829.38649893096,
          10482.450023357,
          11114.509717932599,
          11693.5017651081,
          12205.423611649803,
          12775.5541396291,
          13649.529926001402,
          14431.5759063613,
          15336.245695293,
          16293.5772605165
         ]
        },
        {
         "mode": "lines+markers",
         "name": "South Korea",
         "type": "scatter",
         "x": [
          "Feb 6",
          "Feb 7",
          "Feb 8",
          "Feb 9",
          "Feb 10",
          "Feb 11",
          "Feb 12",
          "Feb 13",
          "Feb 14",
          "Feb 15",
          "Feb 16",
          "Feb 17",
          "Feb 18",
          "Feb 19",
          "Feb 20",
          "Feb 21",
          "Feb 22",
          "Feb 23",
          "Feb 24",
          "Feb 25",
          "Feb 26",
          "Feb 27",
          "Feb 28",
          "Feb 29",
          "Mar 1",
          "Mar 2",
          "Mar 3",
          "Mar 4",
          "Mar 5",
          "Mar 6",
          "Mar 7",
          "Mar 8",
          "Mar 9",
          "Mar 10",
          "Mar 11",
          "Mar 12",
          "Mar 13",
          "Mar 14",
          "Mar 15",
          "Mar 16",
          "Mar 17",
          "Mar 18",
          "Mar 19",
          "Mar 20",
          "Mar 21",
          "Mar 22",
          "Mar 23",
          "Mar 24",
          "Mar 25",
          "Mar 26",
          "Mar 27",
          "Mar 28",
          "Mar 29",
          "Mar 30",
          "Mar 31",
          "Apr 1",
          "Apr 2",
          "Apr 3",
          "Apr 4",
          "Apr 5",
          "Apr 6",
          "Apr 7",
          "Apr 8",
          "Apr 9",
          "Apr 10",
          "Apr 11"
         ],
         "y": [
          17.182138923903,
          21.938776253119098,
          33.0246534571289,
          45.4307402055741,
          53.8956131669546,
          70.4564770111232,
          98.51092983037731,
          112.547863663125,
          133.0693561406,
          145.98022889133,
          153.746167388009,
          158.638708640917,
          179.87855042933498,
          202.12796422232103,
          236.10394514529298,
          287.650361917003,
          380.938698108363,
          439.4162149883579,
          555.555825206198,
          712.835494610196,
          895.5486125908192,
          1125.8669335560903,
          1377.28919238608,
          1663.7164189898601,
          1882.9488627511103,
          2127.69241447396,
          2443.37781436398,
          2654.1453851638503,
          2845.07098310472,
          3198.40176985738,
          3459.51203696198,
          3660.0479837924904,
          3817.30823835024,
          4079.91344861545,
          4317.764729922501,
          4562.45003710663,
          4827.44327345957,
          5073.778842574231,
          5207.2947401783895,
          5329.45295273116,
          5566.54705503478,
          5739.94104681939,
          5960.82375251119,
          6147.98287028116,
          6358.53687777238,
          6441.45768607067,
          6562.91696415874,
          6767.66593262369,
          6948.49581051887,
          7085.292817137869,
          7318.63985411685,
          7531.5042283108305,
          7652.1869125492185,
          7672.630745641732,
          7971.03693237663,
          8184.27018864921,
          8382.22396092956,
          8606.077138096349,
          8834.376315052481,
          8954.76777659725,
          9062.92788500975,
          9266.78377054758,
          9435.67351800412,
          9604.737999076822,
          9766.65781673259,
          9910.87129461592
         ]
        }
       ],
       "layout": {
        "autosize": false,
        "height": 900,
        "template": {
         "data": {
          "bar": [
           {
            "error_x": {
             "color": "#2a3f5f"
            },
            "error_y": {
             "color": "#2a3f5f"
            },
            "marker": {
             "line": {
              "color": "#E5ECF6",
              "width": 0.5
             }
            },
            "type": "bar"
           }
          ],
          "barpolar": [
           {
            "marker": {
             "line": {
              "color": "#E5ECF6",
              "width": 0.5
             }
            },
            "type": "barpolar"
           }
          ],
          "carpet": [
           {
            "aaxis": {
             "endlinecolor": "#2a3f5f",
             "gridcolor": "white",
             "linecolor": "white",
             "minorgridcolor": "white",
             "startlinecolor": "#2a3f5f"
            },
            "baxis": {
             "endlinecolor": "#2a3f5f",
             "gridcolor": "white",
             "linecolor": "white",
             "minorgridcolor": "white",
             "startlinecolor": "#2a3f5f"
            },
            "type": "carpet"
           }
          ],
          "choropleth": [
           {
            "colorbar": {
             "outlinewidth": 0,
             "ticks": ""
            },
            "type": "choropleth"
           }
          ],
          "contour": [
           {
            "colorbar": {
             "outlinewidth": 0,
             "ticks": ""
            },
            "colorscale": [
             [
              0,
              "#0d0887"
             ],
             [
              0.1111111111111111,
              "#46039f"
             ],
             [
              0.2222222222222222,
              "#7201a8"
             ],
             [
              0.3333333333333333,
              "#9c179e"
             ],
             [
              0.4444444444444444,
              "#bd3786"
             ],
             [
              0.5555555555555556,
              "#d8576b"
             ],
             [
              0.6666666666666666,
              "#ed7953"
             ],
             [
              0.7777777777777778,
              "#fb9f3a"
             ],
             [
              0.8888888888888888,
              "#fdca26"
             ],
             [
              1,
              "#f0f921"
             ]
            ],
            "type": "contour"
           }
          ],
          "contourcarpet": [
           {
            "colorbar": {
             "outlinewidth": 0,
             "ticks": ""
            },
            "type": "contourcarpet"
           }
          ],
          "heatmap": [
           {
            "colorbar": {
             "outlinewidth": 0,
             "ticks": ""
            },
            "colorscale": [
             [
              0,
              "#0d0887"
             ],
             [
              0.1111111111111111,
              "#46039f"
             ],
             [
              0.2222222222222222,
              "#7201a8"
             ],
             [
              0.3333333333333333,
              "#9c179e"
             ],
             [
              0.4444444444444444,
              "#bd3786"
             ],
             [
              0.5555555555555556,
              "#d8576b"
             ],
             [
              0.6666666666666666,
              "#ed7953"
             ],
             [
              0.7777777777777778,
              "#fb9f3a"
             ],
             [
              0.8888888888888888,
              "#fdca26"
             ],
             [
              1,
              "#f0f921"
             ]
            ],
            "type": "heatmap"
           }
          ],
          "heatmapgl": [
           {
            "colorbar": {
             "outlinewidth": 0,
             "ticks": ""
            },
            "colorscale": [
             [
              0,
              "#0d0887"
             ],
             [
              0.1111111111111111,
              "#46039f"
             ],
             [
              0.2222222222222222,
              "#7201a8"
             ],
             [
              0.3333333333333333,
              "#9c179e"
             ],
             [
              0.4444444444444444,
              "#bd3786"
             ],
             [
              0.5555555555555556,
              "#d8576b"
             ],
             [
              0.6666666666666666,
              "#ed7953"
             ],
             [
              0.7777777777777778,
              "#fb9f3a"
             ],
             [
              0.8888888888888888,
              "#fdca26"
             ],
             [
              1,
              "#f0f921"
             ]
            ],
            "type": "heatmapgl"
           }
          ],
          "histogram": [
           {
            "marker": {
             "colorbar": {
              "outlinewidth": 0,
              "ticks": ""
             }
            },
            "type": "histogram"
           }
          ],
          "histogram2d": [
           {
            "colorbar": {
             "outlinewidth": 0,
             "ticks": ""
            },
            "colorscale": [
             [
              0,
              "#0d0887"
             ],
             [
              0.1111111111111111,
              "#46039f"
             ],
             [
              0.2222222222222222,
              "#7201a8"
             ],
             [
              0.3333333333333333,
              "#9c179e"
             ],
             [
              0.4444444444444444,
              "#bd3786"
             ],
             [
              0.5555555555555556,
              "#d8576b"
             ],
             [
              0.6666666666666666,
              "#ed7953"
             ],
             [
              0.7777777777777778,
              "#fb9f3a"
             ],
             [
              0.8888888888888888,
              "#fdca26"
             ],
             [
              1,
              "#f0f921"
             ]
            ],
            "type": "histogram2d"
           }
          ],
          "histogram2dcontour": [
           {
            "colorbar": {
             "outlinewidth": 0,
             "ticks": ""
            },
            "colorscale": [
             [
              0,
              "#0d0887"
             ],
             [
              0.1111111111111111,
              "#46039f"
             ],
             [
              0.2222222222222222,
              "#7201a8"
             ],
             [
              0.3333333333333333,
              "#9c179e"
             ],
             [
              0.4444444444444444,
              "#bd3786"
             ],
             [
              0.5555555555555556,
              "#d8576b"
             ],
             [
              0.6666666666666666,
              "#ed7953"
             ],
             [
              0.7777777777777778,
              "#fb9f3a"
             ],
             [
              0.8888888888888888,
              "#fdca26"
             ],
             [
              1,
              "#f0f921"
             ]
            ],
            "type": "histogram2dcontour"
           }
          ],
          "mesh3d": [
           {
            "colorbar": {
             "outlinewidth": 0,
             "ticks": ""
            },
            "type": "mesh3d"
           }
          ],
          "parcoords": [
           {
            "line": {
             "colorbar": {
              "outlinewidth": 0,
              "ticks": ""
             }
            },
            "type": "parcoords"
           }
          ],
          "pie": [
           {
            "automargin": true,
            "type": "pie"
           }
          ],
          "scatter": [
           {
            "marker": {
             "colorbar": {
              "outlinewidth": 0,
              "ticks": ""
             }
            },
            "type": "scatter"
           }
          ],
          "scatter3d": [
           {
            "line": {
             "colorbar": {
              "outlinewidth": 0,
              "ticks": ""
             }
            },
            "marker": {
             "colorbar": {
              "outlinewidth": 0,
              "ticks": ""
             }
            },
            "type": "scatter3d"
           }
          ],
          "scattercarpet": [
           {
            "marker": {
             "colorbar": {
              "outlinewidth": 0,
              "ticks": ""
             }
            },
            "type": "scattercarpet"
           }
          ],
          "scattergeo": [
           {
            "marker": {
             "colorbar": {
              "outlinewidth": 0,
              "ticks": ""
             }
            },
            "type": "scattergeo"
           }
          ],
          "scattergl": [
           {
            "marker": {
             "colorbar": {
              "outlinewidth": 0,
              "ticks": ""
             }
            },
            "type": "scattergl"
           }
          ],
          "scattermapbox": [
           {
            "marker": {
             "colorbar": {
              "outlinewidth": 0,
              "ticks": ""
             }
            },
            "type": "scattermapbox"
           }
          ],
          "scatterpolar": [
           {
            "marker": {
             "colorbar": {
              "outlinewidth": 0,
              "ticks": ""
             }
            },
            "type": "scatterpolar"
           }
          ],
          "scatterpolargl": [
           {
            "marker": {
             "colorbar": {
              "outlinewidth": 0,
              "ticks": ""
             }
            },
            "type": "scatterpolargl"
           }
          ],
          "scatterternary": [
           {
            "marker": {
             "colorbar": {
              "outlinewidth": 0,
              "ticks": ""
             }
            },
            "type": "scatterternary"
           }
          ],
          "surface": [
           {
            "colorbar": {
             "outlinewidth": 0,
             "ticks": ""
            },
            "colorscale": [
             [
              0,
              "#0d0887"
             ],
             [
              0.1111111111111111,
              "#46039f"
             ],
             [
              0.2222222222222222,
              "#7201a8"
             ],
             [
              0.3333333333333333,
              "#9c179e"
             ],
             [
              0.4444444444444444,
              "#bd3786"
             ],
             [
              0.5555555555555556,
              "#d8576b"
             ],
             [
              0.6666666666666666,
              "#ed7953"
             ],
             [
              0.7777777777777778,
              "#fb9f3a"
             ],
             [
              0.8888888888888888,
              "#fdca26"
             ],
             [
              1,
              "#f0f921"
             ]
            ],
            "type": "surface"
           }
          ],
          "table": [
           {
            "cells": {
             "fill": {
              "color": "#EBF0F8"
             },
             "line": {
              "color": "white"
             }
            },
            "header": {
             "fill": {
              "color": "#C8D4E3"
             },
             "line": {
              "color": "white"
             }
            },
            "type": "table"
           }
          ]
         },
         "layout": {
          "annotationdefaults": {
           "arrowcolor": "#2a3f5f",
           "arrowhead": 0,
           "arrowwidth": 1
          },
          "coloraxis": {
           "colorbar": {
            "outlinewidth": 0,
            "ticks": ""
           }
          },
          "colorscale": {
           "diverging": [
            [
             0,
             "#8e0152"
            ],
            [
             0.1,
             "#c51b7d"
            ],
            [
             0.2,
             "#de77ae"
            ],
            [
             0.3,
             "#f1b6da"
            ],
            [
             0.4,
             "#fde0ef"
            ],
            [
             0.5,
             "#f7f7f7"
            ],
            [
             0.6,
             "#e6f5d0"
            ],
            [
             0.7,
             "#b8e186"
            ],
            [
             0.8,
             "#7fbc41"
            ],
            [
             0.9,
             "#4d9221"
            ],
            [
             1,
             "#276419"
            ]
           ],
           "sequential": [
            [
             0,
             "#0d0887"
            ],
            [
             0.1111111111111111,
             "#46039f"
            ],
            [
             0.2222222222222222,
             "#7201a8"
            ],
            [
             0.3333333333333333,
             "#9c179e"
            ],
            [
             0.4444444444444444,
             "#bd3786"
            ],
            [
             0.5555555555555556,
             "#d8576b"
            ],
            [
             0.6666666666666666,
             "#ed7953"
            ],
            [
             0.7777777777777778,
             "#fb9f3a"
            ],
            [
             0.8888888888888888,
             "#fdca26"
            ],
            [
             1,
             "#f0f921"
            ]
           ],
           "sequentialminus": [
            [
             0,
             "#0d0887"
            ],
            [
             0.1111111111111111,
             "#46039f"
            ],
            [
             0.2222222222222222,
             "#7201a8"
            ],
            [
             0.3333333333333333,
             "#9c179e"
            ],
            [
             0.4444444444444444,
             "#bd3786"
            ],
            [
             0.5555555555555556,
             "#d8576b"
            ],
            [
             0.6666666666666666,
             "#ed7953"
            ],
            [
             0.7777777777777778,
             "#fb9f3a"
            ],
            [
             0.8888888888888888,
             "#fdca26"
            ],
            [
             1,
             "#f0f921"
            ]
           ]
          },
          "colorway": [
           "#636efa",
           "#EF553B",
           "#00cc96",
           "#ab63fa",
           "#FFA15A",
           "#19d3f3",
           "#FF6692",
           "#B6E880",
           "#FF97FF",
           "#FECB52"
          ],
          "font": {
           "color": "#2a3f5f"
          },
          "geo": {
           "bgcolor": "white",
           "lakecolor": "white",
           "landcolor": "#E5ECF6",
           "showlakes": true,
           "showland": true,
           "subunitcolor": "white"
          },
          "hoverlabel": {
           "align": "left"
          },
          "hovermode": "closest",
          "mapbox": {
           "style": "light"
          },
          "paper_bgcolor": "white",
          "plot_bgcolor": "#E5ECF6",
          "polar": {
           "angularaxis": {
            "gridcolor": "white",
            "linecolor": "white",
            "ticks": ""
           },
           "bgcolor": "#E5ECF6",
           "radialaxis": {
            "gridcolor": "white",
            "linecolor": "white",
            "ticks": ""
           }
          },
          "scene": {
           "xaxis": {
            "backgroundcolor": "#E5ECF6",
            "gridcolor": "white",
            "gridwidth": 2,
            "linecolor": "white",
            "showbackground": true,
            "ticks": "",
            "zerolinecolor": "white"
           },
           "yaxis": {
            "backgroundcolor": "#E5ECF6",
            "gridcolor": "white",
            "gridwidth": 2,
            "linecolor": "white",
            "showbackground": true,
            "ticks": "",
            "zerolinecolor": "white"
           },
           "zaxis": {
            "backgroundcolor": "#E5ECF6",
            "gridcolor": "white",
            "gridwidth": 2,
            "linecolor": "white",
            "showbackground": true,
            "ticks": "",
            "zerolinecolor": "white"
           }
          },
          "shapedefaults": {
           "line": {
            "color": "#2a3f5f"
           }
          },
          "ternary": {
           "aaxis": {
            "gridcolor": "white",
            "linecolor": "white",
            "ticks": ""
           },
           "baxis": {
            "gridcolor": "white",
            "linecolor": "white",
            "ticks": ""
           },
           "bgcolor": "#E5ECF6",
           "caxis": {
            "gridcolor": "white",
            "linecolor": "white",
            "ticks": ""
           }
          },
          "title": {
           "x": 0.05
          },
          "xaxis": {
           "automargin": true,
           "gridcolor": "white",
           "linecolor": "white",
           "ticks": "",
           "title": {
            "standoff": 15
           },
           "zerolinecolor": "white",
           "zerolinewidth": 2
          },
          "yaxis": {
           "automargin": true,
           "gridcolor": "white",
           "linecolor": "white",
           "ticks": "",
           "title": {
            "standoff": 15
           },
           "zerolinecolor": "white",
           "zerolinewidth": 2
          }
         }
        },
        "title": {
         "text": "Total tests for COVID-19 per million people (Feb 6, 2020 to Apr 11, 2020)"
        },
        "width": 1200,
        "xaxis": {
         "title": {
          "text": "Date"
         }
        },
        "yaxis": {
         "title": {
          "text": "Cases tested per million population (TPM)"
         }
        }
       }
      },
      "text/html": [
       "<div>\n",
       "        \n",
       "        \n",
       "            <div id=\"415c4b1f-1f16-4802-a47f-1435a2b383b6\" class=\"plotly-graph-div\" style=\"height:900px; width:1200px;\"></div>\n",
       "            <script type=\"text/javascript\">\n",
       "                require([\"plotly\"], function(Plotly) {\n",
       "                    window.PLOTLYENV=window.PLOTLYENV || {};\n",
       "                    \n",
       "                if (document.getElementById(\"415c4b1f-1f16-4802-a47f-1435a2b383b6\")) {\n",
       "                    Plotly.newPlot(\n",
       "                        '415c4b1f-1f16-4802-a47f-1435a2b383b6',\n",
       "                        [{\"mode\": \"lines+markers\", \"name\": \"Italy\", \"type\": \"scatter\", \"x\": [\"Feb 6\", \"Feb 7\", \"Feb 8\", \"Feb 9\", \"Feb 10\", \"Feb 11\", \"Feb 12\", \"Feb 13\", \"Feb 14\", \"Feb 15\", \"Feb 16\", \"Feb 17\", \"Feb 18\", \"Feb 19\", \"Feb 20\", \"Feb 21\", \"Feb 22\", \"Feb 23\", \"Feb 24\", \"Feb 25\", \"Feb 26\", \"Feb 27\", \"Feb 28\", \"Feb 29\", \"Mar 1\", \"Mar 2\", \"Mar 3\", \"Mar 4\", \"Mar 5\", \"Mar 6\", \"Mar 7\", \"Mar 8\", \"Mar 9\", \"Mar 10\", \"Mar 11\", \"Mar 12\", \"Mar 13\", \"Mar 14\", \"Mar 15\", \"Mar 16\", \"Mar 17\", \"Mar 18\", \"Mar 19\", \"Mar 20\", \"Mar 21\", \"Mar 22\", \"Mar 23\", \"Mar 24\", \"Mar 25\", \"Mar 26\", \"Mar 27\", \"Mar 28\", \"Mar 29\", \"Mar 30\", \"Mar 31\", \"Apr 1\", \"Apr 2\", \"Apr 3\", \"Apr 4\", \"Apr 5\", \"Apr 6\", \"Apr 7\", \"Apr 8\", \"Apr 9\", \"Apr 10\", \"Apr 11\"], \"y\": [0.0, 0.0, 0.0, 0.0, 0.0, 0.0, 0.0, 0.0, 0.0, 0.0, 0.0, 0.0, 0.0, 0.0, 0.0, 0.0, 0.0, 0.0, 73.1244446647423, 145.826106925086, 162.128596438687, 203.17231225768103, 265.422793481297, 315.58169793912, 357.28495430897493, 394.7942092271989, 437.25847392497104, 504.582344001368, 547.2833668456029, 614.8778176608149, 711.3229397521709, 844.499397137658, 910.267427965869, 1027.54726694598, 1237.1289604543401, 1454.5574953883302, 1648.64844159954, 1846.20620352681, 2112.20398107809, 2333.11624302432, 2513.98255562595, 2799.51288026043, 3090.9959811488393, 3498.71042065446, 3944.08631674388, 4369.91275445392, 4658.52093499242, 5022.04615759032, 5486.78548780118, 6105.992597283031, 6664.386685716231, 7263.84140126459, 7678.235802759699, 8072.759431248081, 8573.48599972134, 9156.16470946317, 9829.38649893096, 10482.450023357, 11114.509717932599, 11693.5017651081, 12205.423611649803, 12775.5541396291, 13649.529926001402, 14431.5759063613, 15336.245695293, 16293.5772605165]}, {\"mode\": \"lines+markers\", \"name\": \"South Korea\", \"type\": \"scatter\", \"x\": [\"Feb 6\", \"Feb 7\", \"Feb 8\", \"Feb 9\", \"Feb 10\", \"Feb 11\", \"Feb 12\", \"Feb 13\", \"Feb 14\", \"Feb 15\", \"Feb 16\", \"Feb 17\", \"Feb 18\", \"Feb 19\", \"Feb 20\", \"Feb 21\", \"Feb 22\", \"Feb 23\", \"Feb 24\", \"Feb 25\", \"Feb 26\", \"Feb 27\", \"Feb 28\", \"Feb 29\", \"Mar 1\", \"Mar 2\", \"Mar 3\", \"Mar 4\", \"Mar 5\", \"Mar 6\", \"Mar 7\", \"Mar 8\", \"Mar 9\", \"Mar 10\", \"Mar 11\", \"Mar 12\", \"Mar 13\", \"Mar 14\", \"Mar 15\", \"Mar 16\", \"Mar 17\", \"Mar 18\", \"Mar 19\", \"Mar 20\", \"Mar 21\", \"Mar 22\", \"Mar 23\", \"Mar 24\", \"Mar 25\", \"Mar 26\", \"Mar 27\", \"Mar 28\", \"Mar 29\", \"Mar 30\", \"Mar 31\", \"Apr 1\", \"Apr 2\", \"Apr 3\", \"Apr 4\", \"Apr 5\", \"Apr 6\", \"Apr 7\", \"Apr 8\", \"Apr 9\", \"Apr 10\", \"Apr 11\"], \"y\": [17.182138923903, 21.938776253119098, 33.0246534571289, 45.4307402055741, 53.8956131669546, 70.4564770111232, 98.51092983037731, 112.547863663125, 133.0693561406, 145.98022889133, 153.746167388009, 158.638708640917, 179.87855042933498, 202.12796422232103, 236.10394514529298, 287.650361917003, 380.938698108363, 439.4162149883579, 555.555825206198, 712.835494610196, 895.5486125908192, 1125.8669335560903, 1377.28919238608, 1663.7164189898601, 1882.9488627511103, 2127.69241447396, 2443.37781436398, 2654.1453851638503, 2845.07098310472, 3198.40176985738, 3459.51203696198, 3660.0479837924904, 3817.30823835024, 4079.91344861545, 4317.764729922501, 4562.45003710663, 4827.44327345957, 5073.778842574231, 5207.2947401783895, 5329.45295273116, 5566.54705503478, 5739.94104681939, 5960.82375251119, 6147.98287028116, 6358.53687777238, 6441.45768607067, 6562.91696415874, 6767.66593262369, 6948.49581051887, 7085.292817137869, 7318.63985411685, 7531.5042283108305, 7652.1869125492185, 7672.630745641732, 7971.03693237663, 8184.27018864921, 8382.22396092956, 8606.077138096349, 8834.376315052481, 8954.76777659725, 9062.92788500975, 9266.78377054758, 9435.67351800412, 9604.737999076822, 9766.65781673259, 9910.87129461592]}],\n",
       "                        {\"autosize\": false, \"height\": 900, \"template\": {\"data\": {\"bar\": [{\"error_x\": {\"color\": \"#2a3f5f\"}, \"error_y\": {\"color\": \"#2a3f5f\"}, \"marker\": {\"line\": {\"color\": \"#E5ECF6\", \"width\": 0.5}}, \"type\": \"bar\"}], \"barpolar\": [{\"marker\": {\"line\": {\"color\": \"#E5ECF6\", \"width\": 0.5}}, \"type\": \"barpolar\"}], \"carpet\": [{\"aaxis\": {\"endlinecolor\": \"#2a3f5f\", \"gridcolor\": \"white\", \"linecolor\": \"white\", \"minorgridcolor\": \"white\", \"startlinecolor\": \"#2a3f5f\"}, \"baxis\": {\"endlinecolor\": \"#2a3f5f\", \"gridcolor\": \"white\", \"linecolor\": \"white\", \"minorgridcolor\": \"white\", \"startlinecolor\": \"#2a3f5f\"}, \"type\": \"carpet\"}], \"choropleth\": [{\"colorbar\": {\"outlinewidth\": 0, \"ticks\": \"\"}, \"type\": \"choropleth\"}], \"contour\": [{\"colorbar\": {\"outlinewidth\": 0, \"ticks\": \"\"}, \"colorscale\": [[0.0, \"#0d0887\"], [0.1111111111111111, \"#46039f\"], [0.2222222222222222, \"#7201a8\"], [0.3333333333333333, \"#9c179e\"], [0.4444444444444444, \"#bd3786\"], [0.5555555555555556, \"#d8576b\"], [0.6666666666666666, \"#ed7953\"], [0.7777777777777778, \"#fb9f3a\"], [0.8888888888888888, \"#fdca26\"], [1.0, \"#f0f921\"]], \"type\": \"contour\"}], \"contourcarpet\": [{\"colorbar\": {\"outlinewidth\": 0, \"ticks\": \"\"}, \"type\": \"contourcarpet\"}], \"heatmap\": [{\"colorbar\": {\"outlinewidth\": 0, \"ticks\": \"\"}, \"colorscale\": [[0.0, \"#0d0887\"], [0.1111111111111111, \"#46039f\"], [0.2222222222222222, \"#7201a8\"], [0.3333333333333333, \"#9c179e\"], [0.4444444444444444, \"#bd3786\"], [0.5555555555555556, \"#d8576b\"], [0.6666666666666666, \"#ed7953\"], [0.7777777777777778, \"#fb9f3a\"], [0.8888888888888888, \"#fdca26\"], [1.0, \"#f0f921\"]], \"type\": \"heatmap\"}], \"heatmapgl\": [{\"colorbar\": {\"outlinewidth\": 0, \"ticks\": \"\"}, \"colorscale\": [[0.0, \"#0d0887\"], [0.1111111111111111, \"#46039f\"], [0.2222222222222222, \"#7201a8\"], [0.3333333333333333, \"#9c179e\"], [0.4444444444444444, \"#bd3786\"], [0.5555555555555556, \"#d8576b\"], [0.6666666666666666, \"#ed7953\"], [0.7777777777777778, \"#fb9f3a\"], [0.8888888888888888, \"#fdca26\"], [1.0, \"#f0f921\"]], \"type\": \"heatmapgl\"}], \"histogram\": [{\"marker\": {\"colorbar\": {\"outlinewidth\": 0, \"ticks\": \"\"}}, \"type\": \"histogram\"}], \"histogram2d\": [{\"colorbar\": {\"outlinewidth\": 0, \"ticks\": \"\"}, \"colorscale\": [[0.0, \"#0d0887\"], [0.1111111111111111, \"#46039f\"], [0.2222222222222222, \"#7201a8\"], [0.3333333333333333, \"#9c179e\"], [0.4444444444444444, \"#bd3786\"], [0.5555555555555556, \"#d8576b\"], [0.6666666666666666, \"#ed7953\"], [0.7777777777777778, \"#fb9f3a\"], [0.8888888888888888, \"#fdca26\"], [1.0, \"#f0f921\"]], \"type\": \"histogram2d\"}], \"histogram2dcontour\": [{\"colorbar\": {\"outlinewidth\": 0, \"ticks\": \"\"}, \"colorscale\": [[0.0, \"#0d0887\"], [0.1111111111111111, \"#46039f\"], [0.2222222222222222, \"#7201a8\"], [0.3333333333333333, \"#9c179e\"], [0.4444444444444444, \"#bd3786\"], [0.5555555555555556, \"#d8576b\"], [0.6666666666666666, \"#ed7953\"], [0.7777777777777778, \"#fb9f3a\"], [0.8888888888888888, \"#fdca26\"], [1.0, \"#f0f921\"]], \"type\": \"histogram2dcontour\"}], \"mesh3d\": [{\"colorbar\": {\"outlinewidth\": 0, \"ticks\": \"\"}, \"type\": \"mesh3d\"}], \"parcoords\": [{\"line\": {\"colorbar\": {\"outlinewidth\": 0, \"ticks\": \"\"}}, \"type\": \"parcoords\"}], \"pie\": [{\"automargin\": true, \"type\": \"pie\"}], \"scatter\": [{\"marker\": {\"colorbar\": {\"outlinewidth\": 0, \"ticks\": \"\"}}, \"type\": \"scatter\"}], \"scatter3d\": [{\"line\": {\"colorbar\": {\"outlinewidth\": 0, \"ticks\": \"\"}}, \"marker\": {\"colorbar\": {\"outlinewidth\": 0, \"ticks\": \"\"}}, \"type\": \"scatter3d\"}], \"scattercarpet\": [{\"marker\": {\"colorbar\": {\"outlinewidth\": 0, \"ticks\": \"\"}}, \"type\": \"scattercarpet\"}], \"scattergeo\": [{\"marker\": {\"colorbar\": {\"outlinewidth\": 0, \"ticks\": \"\"}}, \"type\": \"scattergeo\"}], \"scattergl\": [{\"marker\": {\"colorbar\": {\"outlinewidth\": 0, \"ticks\": \"\"}}, \"type\": \"scattergl\"}], \"scattermapbox\": [{\"marker\": {\"colorbar\": {\"outlinewidth\": 0, \"ticks\": \"\"}}, \"type\": \"scattermapbox\"}], \"scatterpolar\": [{\"marker\": {\"colorbar\": {\"outlinewidth\": 0, \"ticks\": \"\"}}, \"type\": \"scatterpolar\"}], \"scatterpolargl\": [{\"marker\": {\"colorbar\": {\"outlinewidth\": 0, \"ticks\": \"\"}}, \"type\": \"scatterpolargl\"}], \"scatterternary\": [{\"marker\": {\"colorbar\": {\"outlinewidth\": 0, \"ticks\": \"\"}}, \"type\": \"scatterternary\"}], \"surface\": [{\"colorbar\": {\"outlinewidth\": 0, \"ticks\": \"\"}, \"colorscale\": [[0.0, \"#0d0887\"], [0.1111111111111111, \"#46039f\"], [0.2222222222222222, \"#7201a8\"], [0.3333333333333333, \"#9c179e\"], [0.4444444444444444, \"#bd3786\"], [0.5555555555555556, \"#d8576b\"], [0.6666666666666666, \"#ed7953\"], [0.7777777777777778, \"#fb9f3a\"], [0.8888888888888888, \"#fdca26\"], [1.0, \"#f0f921\"]], \"type\": \"surface\"}], \"table\": [{\"cells\": {\"fill\": {\"color\": \"#EBF0F8\"}, \"line\": {\"color\": \"white\"}}, \"header\": {\"fill\": {\"color\": \"#C8D4E3\"}, \"line\": {\"color\": \"white\"}}, \"type\": \"table\"}]}, \"layout\": {\"annotationdefaults\": {\"arrowcolor\": \"#2a3f5f\", \"arrowhead\": 0, \"arrowwidth\": 1}, \"coloraxis\": {\"colorbar\": {\"outlinewidth\": 0, \"ticks\": \"\"}}, \"colorscale\": {\"diverging\": [[0, \"#8e0152\"], [0.1, \"#c51b7d\"], [0.2, \"#de77ae\"], [0.3, \"#f1b6da\"], [0.4, \"#fde0ef\"], [0.5, \"#f7f7f7\"], [0.6, \"#e6f5d0\"], [0.7, \"#b8e186\"], [0.8, \"#7fbc41\"], [0.9, \"#4d9221\"], [1, \"#276419\"]], \"sequential\": [[0.0, \"#0d0887\"], [0.1111111111111111, \"#46039f\"], [0.2222222222222222, \"#7201a8\"], [0.3333333333333333, \"#9c179e\"], [0.4444444444444444, \"#bd3786\"], [0.5555555555555556, \"#d8576b\"], [0.6666666666666666, \"#ed7953\"], [0.7777777777777778, \"#fb9f3a\"], [0.8888888888888888, \"#fdca26\"], [1.0, \"#f0f921\"]], \"sequentialminus\": [[0.0, \"#0d0887\"], [0.1111111111111111, \"#46039f\"], [0.2222222222222222, \"#7201a8\"], [0.3333333333333333, \"#9c179e\"], [0.4444444444444444, \"#bd3786\"], [0.5555555555555556, \"#d8576b\"], [0.6666666666666666, \"#ed7953\"], [0.7777777777777778, \"#fb9f3a\"], [0.8888888888888888, \"#fdca26\"], [1.0, \"#f0f921\"]]}, \"colorway\": [\"#636efa\", \"#EF553B\", \"#00cc96\", \"#ab63fa\", \"#FFA15A\", \"#19d3f3\", \"#FF6692\", \"#B6E880\", \"#FF97FF\", \"#FECB52\"], \"font\": {\"color\": \"#2a3f5f\"}, \"geo\": {\"bgcolor\": \"white\", \"lakecolor\": \"white\", \"landcolor\": \"#E5ECF6\", \"showlakes\": true, \"showland\": true, \"subunitcolor\": \"white\"}, \"hoverlabel\": {\"align\": \"left\"}, \"hovermode\": \"closest\", \"mapbox\": {\"style\": \"light\"}, \"paper_bgcolor\": \"white\", \"plot_bgcolor\": \"#E5ECF6\", \"polar\": {\"angularaxis\": {\"gridcolor\": \"white\", \"linecolor\": \"white\", \"ticks\": \"\"}, \"bgcolor\": \"#E5ECF6\", \"radialaxis\": {\"gridcolor\": \"white\", \"linecolor\": \"white\", \"ticks\": \"\"}}, \"scene\": {\"xaxis\": {\"backgroundcolor\": \"#E5ECF6\", \"gridcolor\": \"white\", \"gridwidth\": 2, \"linecolor\": \"white\", \"showbackground\": true, \"ticks\": \"\", \"zerolinecolor\": \"white\"}, \"yaxis\": {\"backgroundcolor\": \"#E5ECF6\", \"gridcolor\": \"white\", \"gridwidth\": 2, \"linecolor\": \"white\", \"showbackground\": true, \"ticks\": \"\", \"zerolinecolor\": \"white\"}, \"zaxis\": {\"backgroundcolor\": \"#E5ECF6\", \"gridcolor\": \"white\", \"gridwidth\": 2, \"linecolor\": \"white\", \"showbackground\": true, \"ticks\": \"\", \"zerolinecolor\": \"white\"}}, \"shapedefaults\": {\"line\": {\"color\": \"#2a3f5f\"}}, \"ternary\": {\"aaxis\": {\"gridcolor\": \"white\", \"linecolor\": \"white\", \"ticks\": \"\"}, \"baxis\": {\"gridcolor\": \"white\", \"linecolor\": \"white\", \"ticks\": \"\"}, \"bgcolor\": \"#E5ECF6\", \"caxis\": {\"gridcolor\": \"white\", \"linecolor\": \"white\", \"ticks\": \"\"}}, \"title\": {\"x\": 0.05}, \"xaxis\": {\"automargin\": true, \"gridcolor\": \"white\", \"linecolor\": \"white\", \"ticks\": \"\", \"title\": {\"standoff\": 15}, \"zerolinecolor\": \"white\", \"zerolinewidth\": 2}, \"yaxis\": {\"automargin\": true, \"gridcolor\": \"white\", \"linecolor\": \"white\", \"ticks\": \"\", \"title\": {\"standoff\": 15}, \"zerolinecolor\": \"white\", \"zerolinewidth\": 2}}}, \"title\": {\"text\": \"Total tests for COVID-19 per million people (Feb 6, 2020 to Apr 11, 2020)\"}, \"width\": 1200, \"xaxis\": {\"title\": {\"text\": \"Date\"}}, \"yaxis\": {\"title\": {\"text\": \"Cases tested per million population (TPM)\"}}},\n",
       "                        {\"responsive\": true}\n",
       "                    ).then(function(){\n",
       "                            \n",
       "var gd = document.getElementById('415c4b1f-1f16-4802-a47f-1435a2b383b6');\n",
       "var x = new MutationObserver(function (mutations, observer) {{\n",
       "        var display = window.getComputedStyle(gd).display;\n",
       "        if (!display || display === 'none') {{\n",
       "            console.log([gd, 'removed!']);\n",
       "            Plotly.purge(gd);\n",
       "            observer.disconnect();\n",
       "        }}\n",
       "}});\n",
       "\n",
       "// Listen for the removal of the full notebook cells\n",
       "var notebookContainer = gd.closest('#notebook-container');\n",
       "if (notebookContainer) {{\n",
       "    x.observe(notebookContainer, {childList: true});\n",
       "}}\n",
       "\n",
       "// Listen for the clearing of the current output cell\n",
       "var outputEl = gd.closest('.output');\n",
       "if (outputEl) {{\n",
       "    x.observe(outputEl, {childList: true});\n",
       "}}\n",
       "\n",
       "                        })\n",
       "                };\n",
       "                });\n",
       "            </script>\n",
       "        </div>"
      ]
     },
     "metadata": {},
     "output_type": "display_data"
    }
   ],
   "source": [
    "fig = go.Figure()\n",
    "fig.add_trace(go.Scatter(x=tpm_sk_italy['date'], y=tpm_sk_italy['tpm_italy'],\n",
    "                         mode='lines+markers', name='Italy'))\n",
    "\n",
    "fig.add_trace(go.Scatter(x=tpm_sk_italy['date'], y=tpm_sk_italy['tpm_sk'],\n",
    "                         mode='lines+markers', name='South Korea'))\n",
    "\n",
    "fig.update_layout(title='Total tests for COVID-19 per million people (Feb 6, 2020 to Apr 11, 2020)',\n",
    "                   xaxis_title='Date',\n",
    "                   yaxis_title='Cases tested per million population (TPM)')\n",
    "\n",
    "fig.update_layout(\n",
    "    autosize=False,\n",
    "    width=1200,\n",
    "    height=900,)\n",
    "\n",
    "fig.show()"
   ]
  },
  {
   "cell_type": "code",
   "execution_count": 67,
   "metadata": {},
   "outputs": [
    {
     "data": {
      "text/html": [
       "<div>\n",
       "<style scoped>\n",
       "    .dataframe tbody tr th:only-of-type {\n",
       "        vertical-align: middle;\n",
       "    }\n",
       "\n",
       "    .dataframe tbody tr th {\n",
       "        vertical-align: top;\n",
       "    }\n",
       "\n",
       "    .dataframe thead th {\n",
       "        text-align: right;\n",
       "    }\n",
       "</style>\n",
       "<table border=\"1\" class=\"dataframe\">\n",
       "  <thead>\n",
       "    <tr style=\"text-align: right;\">\n",
       "      <th></th>\n",
       "      <th>date</th>\n",
       "      <th>tpm_italy</th>\n",
       "    </tr>\n",
       "  </thead>\n",
       "  <tbody>\n",
       "    <tr>\n",
       "      <th>0</th>\n",
       "      <td>Feb 24, 2020</td>\n",
       "      <td>73.124445</td>\n",
       "    </tr>\n",
       "    <tr>\n",
       "      <th>1</th>\n",
       "      <td>Feb 25, 2020</td>\n",
       "      <td>145.826107</td>\n",
       "    </tr>\n",
       "    <tr>\n",
       "      <th>2</th>\n",
       "      <td>Feb 26, 2020</td>\n",
       "      <td>162.128596</td>\n",
       "    </tr>\n",
       "    <tr>\n",
       "      <th>3</th>\n",
       "      <td>Feb 27, 2020</td>\n",
       "      <td>203.172312</td>\n",
       "    </tr>\n",
       "    <tr>\n",
       "      <th>4</th>\n",
       "      <td>Feb 28, 2020</td>\n",
       "      <td>265.422793</td>\n",
       "    </tr>\n",
       "    <tr>\n",
       "      <th>5</th>\n",
       "      <td>Feb 29, 2020</td>\n",
       "      <td>315.581698</td>\n",
       "    </tr>\n",
       "    <tr>\n",
       "      <th>6</th>\n",
       "      <td>Mar 1, 2020</td>\n",
       "      <td>357.284954</td>\n",
       "    </tr>\n",
       "    <tr>\n",
       "      <th>7</th>\n",
       "      <td>Mar 2, 2020</td>\n",
       "      <td>394.794209</td>\n",
       "    </tr>\n",
       "    <tr>\n",
       "      <th>8</th>\n",
       "      <td>Mar 3, 2020</td>\n",
       "      <td>437.258474</td>\n",
       "    </tr>\n",
       "    <tr>\n",
       "      <th>9</th>\n",
       "      <td>Mar 4, 2020</td>\n",
       "      <td>504.582344</td>\n",
       "    </tr>\n",
       "    <tr>\n",
       "      <th>10</th>\n",
       "      <td>Mar 5, 2020</td>\n",
       "      <td>547.283367</td>\n",
       "    </tr>\n",
       "    <tr>\n",
       "      <th>11</th>\n",
       "      <td>Mar 6, 2020</td>\n",
       "      <td>614.877818</td>\n",
       "    </tr>\n",
       "    <tr>\n",
       "      <th>12</th>\n",
       "      <td>Mar 7, 2020</td>\n",
       "      <td>711.322940</td>\n",
       "    </tr>\n",
       "    <tr>\n",
       "      <th>13</th>\n",
       "      <td>Mar 8, 2020</td>\n",
       "      <td>844.499397</td>\n",
       "    </tr>\n",
       "    <tr>\n",
       "      <th>14</th>\n",
       "      <td>Mar 9, 2020</td>\n",
       "      <td>910.267428</td>\n",
       "    </tr>\n",
       "    <tr>\n",
       "      <th>15</th>\n",
       "      <td>Mar 10, 2020</td>\n",
       "      <td>1027.547267</td>\n",
       "    </tr>\n",
       "    <tr>\n",
       "      <th>16</th>\n",
       "      <td>Mar 11, 2020</td>\n",
       "      <td>1237.128960</td>\n",
       "    </tr>\n",
       "    <tr>\n",
       "      <th>17</th>\n",
       "      <td>Mar 12, 2020</td>\n",
       "      <td>1454.557495</td>\n",
       "    </tr>\n",
       "    <tr>\n",
       "      <th>18</th>\n",
       "      <td>Mar 13, 2020</td>\n",
       "      <td>1648.648442</td>\n",
       "    </tr>\n",
       "    <tr>\n",
       "      <th>19</th>\n",
       "      <td>Mar 14, 2020</td>\n",
       "      <td>1846.206204</td>\n",
       "    </tr>\n",
       "    <tr>\n",
       "      <th>20</th>\n",
       "      <td>Mar 15, 2020</td>\n",
       "      <td>2112.203981</td>\n",
       "    </tr>\n",
       "    <tr>\n",
       "      <th>21</th>\n",
       "      <td>Mar 16, 2020</td>\n",
       "      <td>2333.116243</td>\n",
       "    </tr>\n",
       "    <tr>\n",
       "      <th>22</th>\n",
       "      <td>Mar 17, 2020</td>\n",
       "      <td>2513.982556</td>\n",
       "    </tr>\n",
       "    <tr>\n",
       "      <th>23</th>\n",
       "      <td>Mar 18, 2020</td>\n",
       "      <td>2799.512880</td>\n",
       "    </tr>\n",
       "    <tr>\n",
       "      <th>24</th>\n",
       "      <td>Mar 19, 2020</td>\n",
       "      <td>3090.995981</td>\n",
       "    </tr>\n",
       "    <tr>\n",
       "      <th>25</th>\n",
       "      <td>Mar 20, 2020</td>\n",
       "      <td>3498.710421</td>\n",
       "    </tr>\n",
       "    <tr>\n",
       "      <th>26</th>\n",
       "      <td>Mar 21, 2020</td>\n",
       "      <td>3944.086317</td>\n",
       "    </tr>\n",
       "    <tr>\n",
       "      <th>27</th>\n",
       "      <td>Mar 22, 2020</td>\n",
       "      <td>4369.912754</td>\n",
       "    </tr>\n",
       "    <tr>\n",
       "      <th>28</th>\n",
       "      <td>Mar 23, 2020</td>\n",
       "      <td>4658.520935</td>\n",
       "    </tr>\n",
       "    <tr>\n",
       "      <th>29</th>\n",
       "      <td>Mar 24, 2020</td>\n",
       "      <td>5022.046158</td>\n",
       "    </tr>\n",
       "    <tr>\n",
       "      <th>30</th>\n",
       "      <td>Mar 25, 2020</td>\n",
       "      <td>5486.785488</td>\n",
       "    </tr>\n",
       "    <tr>\n",
       "      <th>31</th>\n",
       "      <td>Mar 26, 2020</td>\n",
       "      <td>6105.992597</td>\n",
       "    </tr>\n",
       "    <tr>\n",
       "      <th>32</th>\n",
       "      <td>Mar 27, 2020</td>\n",
       "      <td>6664.386686</td>\n",
       "    </tr>\n",
       "    <tr>\n",
       "      <th>33</th>\n",
       "      <td>Mar 28, 2020</td>\n",
       "      <td>7263.841401</td>\n",
       "    </tr>\n",
       "    <tr>\n",
       "      <th>34</th>\n",
       "      <td>Mar 29, 2020</td>\n",
       "      <td>7678.235803</td>\n",
       "    </tr>\n",
       "    <tr>\n",
       "      <th>35</th>\n",
       "      <td>Mar 30, 2020</td>\n",
       "      <td>8072.759431</td>\n",
       "    </tr>\n",
       "    <tr>\n",
       "      <th>36</th>\n",
       "      <td>Mar 31, 2020</td>\n",
       "      <td>8573.486000</td>\n",
       "    </tr>\n",
       "    <tr>\n",
       "      <th>37</th>\n",
       "      <td>Apr 1, 2020</td>\n",
       "      <td>9156.164709</td>\n",
       "    </tr>\n",
       "    <tr>\n",
       "      <th>38</th>\n",
       "      <td>Apr 2, 2020</td>\n",
       "      <td>9829.386499</td>\n",
       "    </tr>\n",
       "    <tr>\n",
       "      <th>39</th>\n",
       "      <td>Apr 3, 2020</td>\n",
       "      <td>10482.450023</td>\n",
       "    </tr>\n",
       "    <tr>\n",
       "      <th>40</th>\n",
       "      <td>Apr 4, 2020</td>\n",
       "      <td>11114.509718</td>\n",
       "    </tr>\n",
       "    <tr>\n",
       "      <th>41</th>\n",
       "      <td>Apr 5, 2020</td>\n",
       "      <td>11693.501765</td>\n",
       "    </tr>\n",
       "    <tr>\n",
       "      <th>42</th>\n",
       "      <td>Apr 6, 2020</td>\n",
       "      <td>12205.423612</td>\n",
       "    </tr>\n",
       "    <tr>\n",
       "      <th>43</th>\n",
       "      <td>Apr 7, 2020</td>\n",
       "      <td>12775.554140</td>\n",
       "    </tr>\n",
       "    <tr>\n",
       "      <th>44</th>\n",
       "      <td>Apr 8, 2020</td>\n",
       "      <td>13649.529926</td>\n",
       "    </tr>\n",
       "    <tr>\n",
       "      <th>45</th>\n",
       "      <td>Apr 9, 2020</td>\n",
       "      <td>14431.575906</td>\n",
       "    </tr>\n",
       "    <tr>\n",
       "      <th>46</th>\n",
       "      <td>Apr 10, 2020</td>\n",
       "      <td>15336.245695</td>\n",
       "    </tr>\n",
       "    <tr>\n",
       "      <th>47</th>\n",
       "      <td>Apr 11, 2020</td>\n",
       "      <td>16293.577261</td>\n",
       "    </tr>\n",
       "  </tbody>\n",
       "</table>\n",
       "</div>"
      ],
      "text/plain": [
       "            date     tpm_italy\n",
       "0   Feb 24, 2020     73.124445\n",
       "1   Feb 25, 2020    145.826107\n",
       "2   Feb 26, 2020    162.128596\n",
       "3   Feb 27, 2020    203.172312\n",
       "4   Feb 28, 2020    265.422793\n",
       "5   Feb 29, 2020    315.581698\n",
       "6    Mar 1, 2020    357.284954\n",
       "7    Mar 2, 2020    394.794209\n",
       "8    Mar 3, 2020    437.258474\n",
       "9    Mar 4, 2020    504.582344\n",
       "10   Mar 5, 2020    547.283367\n",
       "11   Mar 6, 2020    614.877818\n",
       "12   Mar 7, 2020    711.322940\n",
       "13   Mar 8, 2020    844.499397\n",
       "14   Mar 9, 2020    910.267428\n",
       "15  Mar 10, 2020   1027.547267\n",
       "16  Mar 11, 2020   1237.128960\n",
       "17  Mar 12, 2020   1454.557495\n",
       "18  Mar 13, 2020   1648.648442\n",
       "19  Mar 14, 2020   1846.206204\n",
       "20  Mar 15, 2020   2112.203981\n",
       "21  Mar 16, 2020   2333.116243\n",
       "22  Mar 17, 2020   2513.982556\n",
       "23  Mar 18, 2020   2799.512880\n",
       "24  Mar 19, 2020   3090.995981\n",
       "25  Mar 20, 2020   3498.710421\n",
       "26  Mar 21, 2020   3944.086317\n",
       "27  Mar 22, 2020   4369.912754\n",
       "28  Mar 23, 2020   4658.520935\n",
       "29  Mar 24, 2020   5022.046158\n",
       "30  Mar 25, 2020   5486.785488\n",
       "31  Mar 26, 2020   6105.992597\n",
       "32  Mar 27, 2020   6664.386686\n",
       "33  Mar 28, 2020   7263.841401\n",
       "34  Mar 29, 2020   7678.235803\n",
       "35  Mar 30, 2020   8072.759431\n",
       "36  Mar 31, 2020   8573.486000\n",
       "37   Apr 1, 2020   9156.164709\n",
       "38   Apr 2, 2020   9829.386499\n",
       "39   Apr 3, 2020  10482.450023\n",
       "40   Apr 4, 2020  11114.509718\n",
       "41   Apr 5, 2020  11693.501765\n",
       "42   Apr 6, 2020  12205.423612\n",
       "43   Apr 7, 2020  12775.554140\n",
       "44   Apr 8, 2020  13649.529926\n",
       "45   Apr 9, 2020  14431.575906\n",
       "46  Apr 10, 2020  15336.245695\n",
       "47  Apr 11, 2020  16293.577261"
      ]
     },
     "execution_count": 67,
     "metadata": {},
     "output_type": "execute_result"
    }
   ],
   "source": [
    "tpm_italy"
   ]
  },
  {
   "cell_type": "code",
   "execution_count": null,
   "metadata": {},
   "outputs": [],
   "source": []
  }
 ],
 "metadata": {
  "kernelspec": {
   "display_name": "Python 3",
   "language": "python",
   "name": "python3"
  },
  "language_info": {
   "codemirror_mode": {
    "name": "ipython",
    "version": 3
   },
   "file_extension": ".py",
   "mimetype": "text/x-python",
   "name": "python",
   "nbconvert_exporter": "python",
   "pygments_lexer": "ipython3",
   "version": "3.7.3"
  }
 },
 "nbformat": 4,
 "nbformat_minor": 2
}
